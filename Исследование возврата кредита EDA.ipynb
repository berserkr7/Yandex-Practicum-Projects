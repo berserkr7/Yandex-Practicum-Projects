{
 "cells": [
  {
   "cell_type": "markdown",
   "id": "a1a18bfd",
   "metadata": {
    "deletable": false,
    "editable": false,
    "id": "c81daeeb"
   },
   "source": [
    "# Исследование надежности заемщиков\n"
   ]
  },
  {
   "cell_type": "markdown",
   "id": "709e4ef6",
   "metadata": {
    "deletable": false,
    "editable": false,
    "id": "827c20bf"
   },
   "source": [
    "Во второй части проекта вы выполните шаги 3 и 4. Их вручную проверит ревьюер.\n",
    "Чтобы вам не пришлось писать код заново для шагов 1 и 2, мы добавили авторские решения в ячейки с кодом. \n",
    "\n"
   ]
  },
  {
   "cell_type": "markdown",
   "id": "a7bdd569",
   "metadata": {
    "deletable": false,
    "editable": false,
    "id": "744d7639"
   },
   "source": [
    "## Откройте таблицу и изучите общую информацию о данных"
   ]
  },
  {
   "cell_type": "markdown",
   "id": "6f2d4f8a",
   "metadata": {
    "deletable": false,
    "editable": false,
    "id": "e7a14c31"
   },
   "source": [
    "**Задание 1. Импортируйте библиотеку pandas. Считайте данные из csv-файла в датафрейм и сохраните в переменную `data`. Путь к файлу:**\n",
    "\n",
    "`/datasets/data.csv`"
   ]
  },
  {
   "cell_type": "code",
   "execution_count": 50,
   "id": "800f46be",
   "metadata": {
    "deletable": false,
    "id": "7bcf75c9"
   },
   "outputs": [],
   "source": [
    "import pandas as pd\n",
    "\n",
    "try:\n",
    "    data = pd.read_csv('/datasets/data.csv')\n",
    "except:\n",
    "    data = pd.read_csv('https://code.s3.yandex.net/datasets/data.csv')"
   ]
  },
  {
   "cell_type": "markdown",
   "id": "5702835a",
   "metadata": {
    "deletable": false,
    "editable": false,
    "id": "b8038fe3"
   },
   "source": [
    "**Задание 2. Выведите первые 20 строчек датафрейма `data` на экран.**"
   ]
  },
  {
   "cell_type": "code",
   "execution_count": 51,
   "id": "cf9b480d",
   "metadata": {
    "deletable": false,
    "id": "2a7cab99",
    "outputId": "1a8f3ef2-d323-4ec2-ddf7-89670b5944c4"
   },
   "outputs": [
    {
     "data": {
      "text/html": [
       "<div>\n",
       "<style scoped>\n",
       "    .dataframe tbody tr th:only-of-type {\n",
       "        vertical-align: middle;\n",
       "    }\n",
       "\n",
       "    .dataframe tbody tr th {\n",
       "        vertical-align: top;\n",
       "    }\n",
       "\n",
       "    .dataframe thead th {\n",
       "        text-align: right;\n",
       "    }\n",
       "</style>\n",
       "<table border=\"1\" class=\"dataframe\">\n",
       "  <thead>\n",
       "    <tr style=\"text-align: right;\">\n",
       "      <th></th>\n",
       "      <th>children</th>\n",
       "      <th>days_employed</th>\n",
       "      <th>dob_years</th>\n",
       "      <th>education</th>\n",
       "      <th>education_id</th>\n",
       "      <th>family_status</th>\n",
       "      <th>family_status_id</th>\n",
       "      <th>gender</th>\n",
       "      <th>income_type</th>\n",
       "      <th>debt</th>\n",
       "      <th>total_income</th>\n",
       "      <th>purpose</th>\n",
       "    </tr>\n",
       "  </thead>\n",
       "  <tbody>\n",
       "    <tr>\n",
       "      <th>0</th>\n",
       "      <td>1</td>\n",
       "      <td>-8437.673028</td>\n",
       "      <td>42</td>\n",
       "      <td>высшее</td>\n",
       "      <td>0</td>\n",
       "      <td>женат / замужем</td>\n",
       "      <td>0</td>\n",
       "      <td>F</td>\n",
       "      <td>сотрудник</td>\n",
       "      <td>0</td>\n",
       "      <td>253875.639453</td>\n",
       "      <td>покупка жилья</td>\n",
       "    </tr>\n",
       "    <tr>\n",
       "      <th>1</th>\n",
       "      <td>1</td>\n",
       "      <td>-4024.803754</td>\n",
       "      <td>36</td>\n",
       "      <td>среднее</td>\n",
       "      <td>1</td>\n",
       "      <td>женат / замужем</td>\n",
       "      <td>0</td>\n",
       "      <td>F</td>\n",
       "      <td>сотрудник</td>\n",
       "      <td>0</td>\n",
       "      <td>112080.014102</td>\n",
       "      <td>приобретение автомобиля</td>\n",
       "    </tr>\n",
       "    <tr>\n",
       "      <th>2</th>\n",
       "      <td>0</td>\n",
       "      <td>-5623.422610</td>\n",
       "      <td>33</td>\n",
       "      <td>Среднее</td>\n",
       "      <td>1</td>\n",
       "      <td>женат / замужем</td>\n",
       "      <td>0</td>\n",
       "      <td>M</td>\n",
       "      <td>сотрудник</td>\n",
       "      <td>0</td>\n",
       "      <td>145885.952297</td>\n",
       "      <td>покупка жилья</td>\n",
       "    </tr>\n",
       "    <tr>\n",
       "      <th>3</th>\n",
       "      <td>3</td>\n",
       "      <td>-4124.747207</td>\n",
       "      <td>32</td>\n",
       "      <td>среднее</td>\n",
       "      <td>1</td>\n",
       "      <td>женат / замужем</td>\n",
       "      <td>0</td>\n",
       "      <td>M</td>\n",
       "      <td>сотрудник</td>\n",
       "      <td>0</td>\n",
       "      <td>267628.550329</td>\n",
       "      <td>дополнительное образование</td>\n",
       "    </tr>\n",
       "    <tr>\n",
       "      <th>4</th>\n",
       "      <td>0</td>\n",
       "      <td>340266.072047</td>\n",
       "      <td>53</td>\n",
       "      <td>среднее</td>\n",
       "      <td>1</td>\n",
       "      <td>гражданский брак</td>\n",
       "      <td>1</td>\n",
       "      <td>F</td>\n",
       "      <td>пенсионер</td>\n",
       "      <td>0</td>\n",
       "      <td>158616.077870</td>\n",
       "      <td>сыграть свадьбу</td>\n",
       "    </tr>\n",
       "    <tr>\n",
       "      <th>5</th>\n",
       "      <td>0</td>\n",
       "      <td>-926.185831</td>\n",
       "      <td>27</td>\n",
       "      <td>высшее</td>\n",
       "      <td>0</td>\n",
       "      <td>гражданский брак</td>\n",
       "      <td>1</td>\n",
       "      <td>M</td>\n",
       "      <td>компаньон</td>\n",
       "      <td>0</td>\n",
       "      <td>255763.565419</td>\n",
       "      <td>покупка жилья</td>\n",
       "    </tr>\n",
       "    <tr>\n",
       "      <th>6</th>\n",
       "      <td>0</td>\n",
       "      <td>-2879.202052</td>\n",
       "      <td>43</td>\n",
       "      <td>высшее</td>\n",
       "      <td>0</td>\n",
       "      <td>женат / замужем</td>\n",
       "      <td>0</td>\n",
       "      <td>F</td>\n",
       "      <td>компаньон</td>\n",
       "      <td>0</td>\n",
       "      <td>240525.971920</td>\n",
       "      <td>операции с жильем</td>\n",
       "    </tr>\n",
       "    <tr>\n",
       "      <th>7</th>\n",
       "      <td>0</td>\n",
       "      <td>-152.779569</td>\n",
       "      <td>50</td>\n",
       "      <td>СРЕДНЕЕ</td>\n",
       "      <td>1</td>\n",
       "      <td>женат / замужем</td>\n",
       "      <td>0</td>\n",
       "      <td>M</td>\n",
       "      <td>сотрудник</td>\n",
       "      <td>0</td>\n",
       "      <td>135823.934197</td>\n",
       "      <td>образование</td>\n",
       "    </tr>\n",
       "    <tr>\n",
       "      <th>8</th>\n",
       "      <td>2</td>\n",
       "      <td>-6929.865299</td>\n",
       "      <td>35</td>\n",
       "      <td>ВЫСШЕЕ</td>\n",
       "      <td>0</td>\n",
       "      <td>гражданский брак</td>\n",
       "      <td>1</td>\n",
       "      <td>F</td>\n",
       "      <td>сотрудник</td>\n",
       "      <td>0</td>\n",
       "      <td>95856.832424</td>\n",
       "      <td>на проведение свадьбы</td>\n",
       "    </tr>\n",
       "    <tr>\n",
       "      <th>9</th>\n",
       "      <td>0</td>\n",
       "      <td>-2188.756445</td>\n",
       "      <td>41</td>\n",
       "      <td>среднее</td>\n",
       "      <td>1</td>\n",
       "      <td>женат / замужем</td>\n",
       "      <td>0</td>\n",
       "      <td>M</td>\n",
       "      <td>сотрудник</td>\n",
       "      <td>0</td>\n",
       "      <td>144425.938277</td>\n",
       "      <td>покупка жилья для семьи</td>\n",
       "    </tr>\n",
       "    <tr>\n",
       "      <th>10</th>\n",
       "      <td>2</td>\n",
       "      <td>-4171.483647</td>\n",
       "      <td>36</td>\n",
       "      <td>высшее</td>\n",
       "      <td>0</td>\n",
       "      <td>женат / замужем</td>\n",
       "      <td>0</td>\n",
       "      <td>M</td>\n",
       "      <td>компаньон</td>\n",
       "      <td>0</td>\n",
       "      <td>113943.491460</td>\n",
       "      <td>покупка недвижимости</td>\n",
       "    </tr>\n",
       "    <tr>\n",
       "      <th>11</th>\n",
       "      <td>0</td>\n",
       "      <td>-792.701887</td>\n",
       "      <td>40</td>\n",
       "      <td>среднее</td>\n",
       "      <td>1</td>\n",
       "      <td>женат / замужем</td>\n",
       "      <td>0</td>\n",
       "      <td>F</td>\n",
       "      <td>сотрудник</td>\n",
       "      <td>0</td>\n",
       "      <td>77069.234271</td>\n",
       "      <td>покупка коммерческой недвижимости</td>\n",
       "    </tr>\n",
       "    <tr>\n",
       "      <th>12</th>\n",
       "      <td>0</td>\n",
       "      <td>NaN</td>\n",
       "      <td>65</td>\n",
       "      <td>среднее</td>\n",
       "      <td>1</td>\n",
       "      <td>гражданский брак</td>\n",
       "      <td>1</td>\n",
       "      <td>M</td>\n",
       "      <td>пенсионер</td>\n",
       "      <td>0</td>\n",
       "      <td>NaN</td>\n",
       "      <td>сыграть свадьбу</td>\n",
       "    </tr>\n",
       "    <tr>\n",
       "      <th>13</th>\n",
       "      <td>0</td>\n",
       "      <td>-1846.641941</td>\n",
       "      <td>54</td>\n",
       "      <td>неоконченное высшее</td>\n",
       "      <td>2</td>\n",
       "      <td>женат / замужем</td>\n",
       "      <td>0</td>\n",
       "      <td>F</td>\n",
       "      <td>сотрудник</td>\n",
       "      <td>0</td>\n",
       "      <td>130458.228857</td>\n",
       "      <td>приобретение автомобиля</td>\n",
       "    </tr>\n",
       "    <tr>\n",
       "      <th>14</th>\n",
       "      <td>0</td>\n",
       "      <td>-1844.956182</td>\n",
       "      <td>56</td>\n",
       "      <td>высшее</td>\n",
       "      <td>0</td>\n",
       "      <td>гражданский брак</td>\n",
       "      <td>1</td>\n",
       "      <td>F</td>\n",
       "      <td>компаньон</td>\n",
       "      <td>1</td>\n",
       "      <td>165127.911772</td>\n",
       "      <td>покупка жилой недвижимости</td>\n",
       "    </tr>\n",
       "    <tr>\n",
       "      <th>15</th>\n",
       "      <td>1</td>\n",
       "      <td>-972.364419</td>\n",
       "      <td>26</td>\n",
       "      <td>среднее</td>\n",
       "      <td>1</td>\n",
       "      <td>женат / замужем</td>\n",
       "      <td>0</td>\n",
       "      <td>F</td>\n",
       "      <td>сотрудник</td>\n",
       "      <td>0</td>\n",
       "      <td>116820.904450</td>\n",
       "      <td>строительство собственной недвижимости</td>\n",
       "    </tr>\n",
       "    <tr>\n",
       "      <th>16</th>\n",
       "      <td>0</td>\n",
       "      <td>-1719.934226</td>\n",
       "      <td>35</td>\n",
       "      <td>среднее</td>\n",
       "      <td>1</td>\n",
       "      <td>женат / замужем</td>\n",
       "      <td>0</td>\n",
       "      <td>F</td>\n",
       "      <td>сотрудник</td>\n",
       "      <td>0</td>\n",
       "      <td>289202.704229</td>\n",
       "      <td>недвижимость</td>\n",
       "    </tr>\n",
       "    <tr>\n",
       "      <th>17</th>\n",
       "      <td>0</td>\n",
       "      <td>-2369.999720</td>\n",
       "      <td>33</td>\n",
       "      <td>высшее</td>\n",
       "      <td>0</td>\n",
       "      <td>гражданский брак</td>\n",
       "      <td>1</td>\n",
       "      <td>M</td>\n",
       "      <td>сотрудник</td>\n",
       "      <td>0</td>\n",
       "      <td>90410.586745</td>\n",
       "      <td>строительство недвижимости</td>\n",
       "    </tr>\n",
       "    <tr>\n",
       "      <th>18</th>\n",
       "      <td>0</td>\n",
       "      <td>400281.136913</td>\n",
       "      <td>53</td>\n",
       "      <td>среднее</td>\n",
       "      <td>1</td>\n",
       "      <td>вдовец / вдова</td>\n",
       "      <td>2</td>\n",
       "      <td>F</td>\n",
       "      <td>пенсионер</td>\n",
       "      <td>0</td>\n",
       "      <td>56823.777243</td>\n",
       "      <td>на покупку подержанного автомобиля</td>\n",
       "    </tr>\n",
       "    <tr>\n",
       "      <th>19</th>\n",
       "      <td>0</td>\n",
       "      <td>-10038.818549</td>\n",
       "      <td>48</td>\n",
       "      <td>СРЕДНЕЕ</td>\n",
       "      <td>1</td>\n",
       "      <td>в разводе</td>\n",
       "      <td>3</td>\n",
       "      <td>F</td>\n",
       "      <td>сотрудник</td>\n",
       "      <td>0</td>\n",
       "      <td>242831.107982</td>\n",
       "      <td>на покупку своего автомобиля</td>\n",
       "    </tr>\n",
       "  </tbody>\n",
       "</table>\n",
       "</div>"
      ],
      "text/plain": [
       "    children  days_employed  dob_years            education  education_id  \\\n",
       "0          1   -8437.673028         42               высшее             0   \n",
       "1          1   -4024.803754         36              среднее             1   \n",
       "2          0   -5623.422610         33              Среднее             1   \n",
       "3          3   -4124.747207         32              среднее             1   \n",
       "4          0  340266.072047         53              среднее             1   \n",
       "5          0    -926.185831         27               высшее             0   \n",
       "6          0   -2879.202052         43               высшее             0   \n",
       "7          0    -152.779569         50              СРЕДНЕЕ             1   \n",
       "8          2   -6929.865299         35               ВЫСШЕЕ             0   \n",
       "9          0   -2188.756445         41              среднее             1   \n",
       "10         2   -4171.483647         36               высшее             0   \n",
       "11         0    -792.701887         40              среднее             1   \n",
       "12         0            NaN         65              среднее             1   \n",
       "13         0   -1846.641941         54  неоконченное высшее             2   \n",
       "14         0   -1844.956182         56               высшее             0   \n",
       "15         1    -972.364419         26              среднее             1   \n",
       "16         0   -1719.934226         35              среднее             1   \n",
       "17         0   -2369.999720         33               высшее             0   \n",
       "18         0  400281.136913         53              среднее             1   \n",
       "19         0  -10038.818549         48              СРЕДНЕЕ             1   \n",
       "\n",
       "       family_status  family_status_id gender income_type  debt  \\\n",
       "0    женат / замужем                 0      F   сотрудник     0   \n",
       "1    женат / замужем                 0      F   сотрудник     0   \n",
       "2    женат / замужем                 0      M   сотрудник     0   \n",
       "3    женат / замужем                 0      M   сотрудник     0   \n",
       "4   гражданский брак                 1      F   пенсионер     0   \n",
       "5   гражданский брак                 1      M   компаньон     0   \n",
       "6    женат / замужем                 0      F   компаньон     0   \n",
       "7    женат / замужем                 0      M   сотрудник     0   \n",
       "8   гражданский брак                 1      F   сотрудник     0   \n",
       "9    женат / замужем                 0      M   сотрудник     0   \n",
       "10   женат / замужем                 0      M   компаньон     0   \n",
       "11   женат / замужем                 0      F   сотрудник     0   \n",
       "12  гражданский брак                 1      M   пенсионер     0   \n",
       "13   женат / замужем                 0      F   сотрудник     0   \n",
       "14  гражданский брак                 1      F   компаньон     1   \n",
       "15   женат / замужем                 0      F   сотрудник     0   \n",
       "16   женат / замужем                 0      F   сотрудник     0   \n",
       "17  гражданский брак                 1      M   сотрудник     0   \n",
       "18    вдовец / вдова                 2      F   пенсионер     0   \n",
       "19         в разводе                 3      F   сотрудник     0   \n",
       "\n",
       "     total_income                                 purpose  \n",
       "0   253875.639453                           покупка жилья  \n",
       "1   112080.014102                 приобретение автомобиля  \n",
       "2   145885.952297                           покупка жилья  \n",
       "3   267628.550329              дополнительное образование  \n",
       "4   158616.077870                         сыграть свадьбу  \n",
       "5   255763.565419                           покупка жилья  \n",
       "6   240525.971920                       операции с жильем  \n",
       "7   135823.934197                             образование  \n",
       "8    95856.832424                   на проведение свадьбы  \n",
       "9   144425.938277                 покупка жилья для семьи  \n",
       "10  113943.491460                    покупка недвижимости  \n",
       "11   77069.234271       покупка коммерческой недвижимости  \n",
       "12            NaN                         сыграть свадьбу  \n",
       "13  130458.228857                 приобретение автомобиля  \n",
       "14  165127.911772              покупка жилой недвижимости  \n",
       "15  116820.904450  строительство собственной недвижимости  \n",
       "16  289202.704229                            недвижимость  \n",
       "17   90410.586745              строительство недвижимости  \n",
       "18   56823.777243      на покупку подержанного автомобиля  \n",
       "19  242831.107982            на покупку своего автомобиля  "
      ]
     },
     "execution_count": 51,
     "metadata": {},
     "output_type": "execute_result"
    }
   ],
   "source": [
    "data.head(20)"
   ]
  },
  {
   "cell_type": "markdown",
   "id": "aba6d24a",
   "metadata": {
    "deletable": false,
    "editable": false,
    "id": "1c12e233"
   },
   "source": [
    "**Задание 3. Выведите основную информацию о датафрейме с помощью метода `info()`.**"
   ]
  },
  {
   "cell_type": "code",
   "execution_count": 52,
   "id": "dc082051",
   "metadata": {
    "deletable": false,
    "id": "2b757bca",
    "outputId": "15376089-8dad-46c9-b520-c05248d43158"
   },
   "outputs": [
    {
     "name": "stdout",
     "output_type": "stream",
     "text": [
      "<class 'pandas.core.frame.DataFrame'>\n",
      "RangeIndex: 21525 entries, 0 to 21524\n",
      "Data columns (total 12 columns):\n",
      " #   Column            Non-Null Count  Dtype  \n",
      "---  ------            --------------  -----  \n",
      " 0   children          21525 non-null  int64  \n",
      " 1   days_employed     19351 non-null  float64\n",
      " 2   dob_years         21525 non-null  int64  \n",
      " 3   education         21525 non-null  object \n",
      " 4   education_id      21525 non-null  int64  \n",
      " 5   family_status     21525 non-null  object \n",
      " 6   family_status_id  21525 non-null  int64  \n",
      " 7   gender            21525 non-null  object \n",
      " 8   income_type       21525 non-null  object \n",
      " 9   debt              21525 non-null  int64  \n",
      " 10  total_income      19351 non-null  float64\n",
      " 11  purpose           21525 non-null  object \n",
      "dtypes: float64(2), int64(5), object(5)\n",
      "memory usage: 2.0+ MB\n"
     ]
    }
   ],
   "source": [
    "data.info()"
   ]
  },
  {
   "cell_type": "markdown",
   "id": "76a7ccb9",
   "metadata": {
    "deletable": false,
    "editable": false,
    "id": "333ec665"
   },
   "source": [
    "## Предобработка данных"
   ]
  },
  {
   "cell_type": "markdown",
   "id": "58b23c6d",
   "metadata": {
    "deletable": false,
    "editable": false,
    "id": "02d92d53"
   },
   "source": [
    "### Удаление пропусков"
   ]
  },
  {
   "cell_type": "markdown",
   "id": "1e1f5ae2",
   "metadata": {
    "deletable": false,
    "editable": false,
    "id": "cd84967c"
   },
   "source": [
    "**Задание 4. Выведите количество пропущенных значений для каждого столбца. Используйте комбинацию двух методов.**"
   ]
  },
  {
   "cell_type": "code",
   "execution_count": 53,
   "id": "79e69bea",
   "metadata": {
    "deletable": false,
    "id": "7f9b2309",
    "outputId": "81f4d817-781c-465c-ed15-91ce4446810d"
   },
   "outputs": [
    {
     "data": {
      "text/plain": [
       "children               0\n",
       "days_employed       2174\n",
       "dob_years              0\n",
       "education              0\n",
       "education_id           0\n",
       "family_status          0\n",
       "family_status_id       0\n",
       "gender                 0\n",
       "income_type            0\n",
       "debt                   0\n",
       "total_income        2174\n",
       "purpose                0\n",
       "dtype: int64"
      ]
     },
     "execution_count": 53,
     "metadata": {},
     "output_type": "execute_result"
    }
   ],
   "source": [
    "data.isna().sum()"
   ]
  },
  {
   "cell_type": "markdown",
   "id": "6c5488db",
   "metadata": {
    "deletable": false,
    "editable": false,
    "id": "db86e27b"
   },
   "source": [
    "**Задание 5. В двух столбцах есть пропущенные значения. Один из них — `days_employed`. Пропуски в этом столбце вы обработаете на следующем этапе. Другой столбец с пропущенными значениями — `total_income` — хранит данные о доходах. На сумму дохода сильнее всего влияет тип занятости, поэтому заполнить пропуски в этом столбце нужно медианным значением по каждому типу из столбца `income_type`. Например, у человека с типом занятости `сотрудник` пропуск в столбце `total_income` должен быть заполнен медианным доходом среди всех записей с тем же типом.**"
   ]
  },
  {
   "cell_type": "code",
   "execution_count": 54,
   "id": "4f463fd3",
   "metadata": {
    "deletable": false,
    "id": "42006a93"
   },
   "outputs": [],
   "source": [
    "for t in data['income_type'].unique():\n",
    "    data.loc[(data['income_type'] == t) & (data['total_income'].isna()), 'total_income'] = \\\n",
    "    data.loc[(data['income_type'] == t), 'total_income'].median()"
   ]
  },
  {
   "cell_type": "markdown",
   "id": "0d0601d8",
   "metadata": {
    "deletable": false,
    "editable": false,
    "id": "89da5ece"
   },
   "source": [
    "### Обработка аномальных значений"
   ]
  },
  {
   "cell_type": "markdown",
   "id": "70a842d9",
   "metadata": {
    "deletable": false,
    "editable": false,
    "id": "57964554"
   },
   "source": [
    "**Задание 6. В данных могут встречаться артефакты (аномалии) — значения, которые не отражают действительность и появились по какой-то ошибке. таким артефактом будет отрицательное количество дней трудового стажа в столбце `days_employed`. Для реальных данных это нормально. Обработайте значения в этом столбце: замените все отрицательные значения положительными с помощью метода `abs()`.**"
   ]
  },
  {
   "cell_type": "code",
   "execution_count": 55,
   "id": "e8e959ff",
   "metadata": {
    "deletable": false,
    "id": "f6f055bf"
   },
   "outputs": [],
   "source": [
    "data['days_employed'] = data['days_employed'].abs()"
   ]
  },
  {
   "cell_type": "markdown",
   "id": "1788d667",
   "metadata": {
    "deletable": false,
    "editable": false,
    "id": "6107dd2f"
   },
   "source": [
    "**Задание 7. Для каждого типа занятости выведите медианное значение трудового стажа `days_employed` в днях.**"
   ]
  },
  {
   "cell_type": "code",
   "execution_count": 56,
   "id": "a345ad67",
   "metadata": {
    "deletable": false,
    "id": "85a5faf6",
    "outputId": "801ef80e-522b-4668-f34e-565af7432bcf"
   },
   "outputs": [
    {
     "data": {
      "text/plain": [
       "income_type\n",
       "безработный        366413.652744\n",
       "в декрете            3296.759962\n",
       "госслужащий          2689.368353\n",
       "компаньон            1547.382223\n",
       "пенсионер          365213.306266\n",
       "предприниматель       520.848083\n",
       "сотрудник            1574.202821\n",
       "студент               578.751554\n",
       "Name: days_employed, dtype: float64"
      ]
     },
     "execution_count": 56,
     "metadata": {},
     "output_type": "execute_result"
    }
   ],
   "source": [
    "data.groupby('income_type')['days_employed'].agg('median')"
   ]
  },
  {
   "cell_type": "markdown",
   "id": "054a6155",
   "metadata": {
    "deletable": false,
    "editable": false,
    "id": "38d1a030"
   },
   "source": [
    "У двух типов (безработные и пенсионеры) получатся аномально большие значения. Исправить такие значения сложно, поэтому оставьте их как есть. Тем более этот столбец не понадобится вам для исследования."
   ]
  },
  {
   "cell_type": "markdown",
   "id": "6f401664",
   "metadata": {
    "deletable": false,
    "editable": false,
    "id": "d8a9f147"
   },
   "source": [
    "**Задание 8. Выведите перечень уникальных значений столбца `children`.**"
   ]
  },
  {
   "cell_type": "code",
   "execution_count": 57,
   "id": "dff7f6c4",
   "metadata": {
    "deletable": false,
    "id": "ef5056eb",
    "outputId": "6975b15c-7f95-4697-d16d-a0c79b657b03"
   },
   "outputs": [
    {
     "data": {
      "text/plain": [
       "array([ 1,  0,  3,  2, -1,  4, 20,  5])"
      ]
     },
     "execution_count": 57,
     "metadata": {},
     "output_type": "execute_result"
    }
   ],
   "source": [
    "data['children'].unique()"
   ]
  },
  {
   "cell_type": "markdown",
   "id": "e68d75a6",
   "metadata": {
    "deletable": false,
    "editable": false,
    "id": "40b9ebf2"
   },
   "source": [
    "**Задание 9. В столбце `children` есть два аномальных значения. Удалите строки, в которых встречаются такие аномальные значения из датафрейма `data`.**"
   ]
  },
  {
   "cell_type": "code",
   "execution_count": 58,
   "id": "5f176414",
   "metadata": {
    "deletable": false,
    "id": "3ff9801d"
   },
   "outputs": [],
   "source": [
    "data = data[(data['children'] != -1) & (data['children'] != 20)]"
   ]
  },
  {
   "cell_type": "markdown",
   "id": "8b1bc79f",
   "metadata": {
    "deletable": false,
    "editable": false,
    "id": "bbc4d0ce"
   },
   "source": [
    "**Задание 10. Ещё раз выведите перечень уникальных значений столбца `children`, чтобы убедиться, что артефакты удалены.**"
   ]
  },
  {
   "cell_type": "code",
   "execution_count": 59,
   "id": "2eb6fec4",
   "metadata": {
    "deletable": false,
    "id": "ad4fa8b7",
    "outputId": "b2097101-d49d-44d9-901b-32a65c9463d1"
   },
   "outputs": [
    {
     "data": {
      "text/plain": [
       "array([1, 0, 3, 2, 4, 5])"
      ]
     },
     "execution_count": 59,
     "metadata": {},
     "output_type": "execute_result"
    }
   ],
   "source": [
    "data['children'].unique()"
   ]
  },
  {
   "cell_type": "markdown",
   "id": "4d576f11",
   "metadata": {
    "deletable": false,
    "editable": false,
    "id": "75440b63"
   },
   "source": [
    "### Удаление пропусков (продолжение)"
   ]
  },
  {
   "cell_type": "markdown",
   "id": "a6655a54",
   "metadata": {
    "deletable": false,
    "editable": false,
    "id": "f4ea573f"
   },
   "source": [
    "**Задание 11. Заполните пропуски в столбце `days_employed` медианными значениями по каждого типа занятости `income_type`.**"
   ]
  },
  {
   "cell_type": "code",
   "execution_count": 60,
   "id": "351bf8e2",
   "metadata": {
    "deletable": false,
    "id": "af6b1a7e"
   },
   "outputs": [],
   "source": [
    "for t in data['income_type'].unique():\n",
    "    data.loc[(data['income_type'] == t) & (data['days_employed'].isna()), 'days_employed'] = \\\n",
    "    data.loc[(data['income_type'] == t), 'days_employed'].median()"
   ]
  },
  {
   "cell_type": "markdown",
   "id": "562ffda2",
   "metadata": {
    "deletable": false,
    "editable": false,
    "id": "2753f40d"
   },
   "source": [
    "**Задание 12. Убедитесь, что все пропуски заполнены. Проверьте себя и ещё раз выведите количество пропущенных значений для каждого столбца с помощью двух методов.**"
   ]
  },
  {
   "cell_type": "code",
   "execution_count": 61,
   "id": "73a50962",
   "metadata": {
    "deletable": false,
    "id": "55f78bc2",
    "outputId": "8da1e4e1-358e-4e87-98c9-f261bce0a7b2"
   },
   "outputs": [
    {
     "data": {
      "text/plain": [
       "children            0\n",
       "days_employed       0\n",
       "dob_years           0\n",
       "education           0\n",
       "education_id        0\n",
       "family_status       0\n",
       "family_status_id    0\n",
       "gender              0\n",
       "income_type         0\n",
       "debt                0\n",
       "total_income        0\n",
       "purpose             0\n",
       "dtype: int64"
      ]
     },
     "execution_count": 61,
     "metadata": {},
     "output_type": "execute_result"
    }
   ],
   "source": [
    "data.isna().sum()"
   ]
  },
  {
   "cell_type": "markdown",
   "id": "33714de1",
   "metadata": {
    "deletable": false,
    "editable": false,
    "id": "ddc81e43"
   },
   "source": [
    "### Изменение типов данных"
   ]
  },
  {
   "cell_type": "markdown",
   "id": "0d0f517b",
   "metadata": {
    "deletable": false,
    "editable": false,
    "id": "42d19d24"
   },
   "source": [
    "**Задание 13. Замените вещественный тип данных в столбце `total_income` на целочисленный с помощью метода `astype()`.**"
   ]
  },
  {
   "cell_type": "code",
   "execution_count": 62,
   "id": "77ba9cd9",
   "metadata": {
    "deletable": false,
    "id": "920b65ad"
   },
   "outputs": [],
   "source": [
    "data['total_income'] = data['total_income'].astype(int)"
   ]
  },
  {
   "cell_type": "markdown",
   "id": "82da22ba",
   "metadata": {
    "deletable": false,
    "editable": false,
    "id": "80c420ba"
   },
   "source": [
    "### Обработка дубликатов"
   ]
  },
  {
   "cell_type": "markdown",
   "id": "457b6b0b",
   "metadata": {
    "deletable": false,
    "editable": false
   },
   "source": [
    "**Задание 14. Обработайте неявные дубликаты в столбце `education`. В этом столбце есть одни и те же значения, но записанные по-разному: с использованием заглавных и строчных букв. Приведите их к нижнему регистру. Проверьте остальные столбцы.**"
   ]
  },
  {
   "cell_type": "code",
   "execution_count": 63,
   "id": "468896d0",
   "metadata": {
    "deletable": false
   },
   "outputs": [],
   "source": [
    "data['education'] = data['education'].str.lower()"
   ]
  },
  {
   "cell_type": "markdown",
   "id": "f8b7c0b1",
   "metadata": {
    "deletable": false,
    "editable": false,
    "id": "dc587695"
   },
   "source": [
    "**Задание 15. Выведите на экран количество строк-дубликатов в данных. Если такие строки присутствуют, удалите их.**"
   ]
  },
  {
   "cell_type": "code",
   "execution_count": 64,
   "id": "1353cbbf",
   "metadata": {
    "deletable": false,
    "id": "3ee445e4",
    "outputId": "9684deba-1934-42d1-99e1-cda61740f822"
   },
   "outputs": [
    {
     "data": {
      "text/plain": [
       "71"
      ]
     },
     "execution_count": 64,
     "metadata": {},
     "output_type": "execute_result"
    }
   ],
   "source": [
    "data.duplicated().sum()"
   ]
  },
  {
   "cell_type": "code",
   "execution_count": 65,
   "id": "5653148a",
   "metadata": {
    "deletable": false,
    "id": "8575fe05"
   },
   "outputs": [],
   "source": [
    "data = data.drop_duplicates()"
   ]
  },
  {
   "cell_type": "markdown",
   "id": "34162d3a",
   "metadata": {
    "deletable": false,
    "editable": false,
    "id": "9904cf55"
   },
   "source": [
    "### Категоризация данных"
   ]
  },
  {
   "cell_type": "markdown",
   "id": "dca8858b",
   "metadata": {
    "deletable": false,
    "editable": false,
    "id": "72fcc8a2"
   },
   "source": [
    "**Задание 16. На основании диапазонов, указанных ниже, создайте в датафрейме `data` столбец `total_income_category` с категориями:**\n",
    "\n",
    "- 0–30000 — `'E'`;\n",
    "- 30001–50000 — `'D'`;\n",
    "- 50001–200000 — `'C'`;\n",
    "- 200001–1000000 — `'B'`;\n",
    "- 1000001 и выше — `'A'`.\n",
    "\n",
    "\n",
    "**Например, кредитополучателю с доходом 25000 нужно назначить категорию `'E'`, а клиенту, получающему 235000, — `'B'`. Используйте собственную функцию с именем `categorize_income()` и метод `apply()`.**"
   ]
  },
  {
   "cell_type": "code",
   "execution_count": 66,
   "id": "c847d95a",
   "metadata": {
    "deletable": false,
    "id": "e1771346"
   },
   "outputs": [],
   "source": [
    "def categorize_income(income):\n",
    "    try:\n",
    "        if 0 <= income <= 30000:\n",
    "            return 'E'\n",
    "        elif 30001 <= income <= 50000:\n",
    "            return 'D'\n",
    "        elif 50001 <= income <= 200000:\n",
    "            return 'C'\n",
    "        elif 200001 <= income <= 1000000:\n",
    "            return 'B'\n",
    "        elif income >= 1000001:\n",
    "            return 'A'\n",
    "    except:\n",
    "        pass"
   ]
  },
  {
   "cell_type": "code",
   "execution_count": 67,
   "id": "3849b247",
   "metadata": {
    "deletable": false,
    "id": "d5f3586d"
   },
   "outputs": [],
   "source": [
    "data['total_income_category'] = data['total_income'].apply(categorize_income)"
   ]
  },
  {
   "cell_type": "markdown",
   "id": "ddffdd95",
   "metadata": {
    "deletable": false,
    "editable": false,
    "id": "dde49b5c"
   },
   "source": [
    "**Задание 17. Выведите на экран перечень уникальных целей взятия кредита из столбца `purpose`.**"
   ]
  },
  {
   "cell_type": "code",
   "execution_count": 68,
   "id": "23872cbb",
   "metadata": {
    "deletable": false,
    "id": "f67ce9b3",
    "outputId": "673c12d9-7d7e-4ae0-9812-c622c89dd244"
   },
   "outputs": [
    {
     "data": {
      "text/plain": [
       "array(['покупка жилья', 'приобретение автомобиля',\n",
       "       'дополнительное образование', 'сыграть свадьбу',\n",
       "       'операции с жильем', 'образование', 'на проведение свадьбы',\n",
       "       'покупка жилья для семьи', 'покупка недвижимости',\n",
       "       'покупка коммерческой недвижимости', 'покупка жилой недвижимости',\n",
       "       'строительство собственной недвижимости', 'недвижимость',\n",
       "       'строительство недвижимости', 'на покупку подержанного автомобиля',\n",
       "       'на покупку своего автомобиля',\n",
       "       'операции с коммерческой недвижимостью',\n",
       "       'строительство жилой недвижимости', 'жилье',\n",
       "       'операции со своей недвижимостью', 'автомобили',\n",
       "       'заняться образованием', 'сделка с подержанным автомобилем',\n",
       "       'получение образования', 'автомобиль', 'свадьба',\n",
       "       'получение дополнительного образования', 'покупка своего жилья',\n",
       "       'операции с недвижимостью', 'получение высшего образования',\n",
       "       'свой автомобиль', 'сделка с автомобилем',\n",
       "       'профильное образование', 'высшее образование',\n",
       "       'покупка жилья для сдачи', 'на покупку автомобиля', 'ремонт жилью',\n",
       "       'заняться высшим образованием'], dtype=object)"
      ]
     },
     "execution_count": 68,
     "metadata": {},
     "output_type": "execute_result"
    }
   ],
   "source": [
    "data['purpose'].unique()"
   ]
  },
  {
   "cell_type": "markdown",
   "id": "f71e82e2",
   "metadata": {
    "deletable": false,
    "editable": false,
    "id": "85d0aef0"
   },
   "source": [
    "**Задание 18. Создайте функцию, которая на основании данных из столбца `purpose` сформирует новый столбец `purpose_category`, в который войдут следующие категории:**\n",
    "\n",
    "- `'операции с автомобилем'`,\n",
    "- `'операции с недвижимостью'`,\n",
    "- `'проведение свадьбы'`,\n",
    "- `'получение образования'`.\n",
    "\n",
    "**Например, если в столбце `purpose` находится подстрока `'на покупку автомобиля'`, то в столбце `purpose_category` должна появиться строка `'операции с автомобилем'`.**\n",
    "\n",
    "**Используйте собственную функцию с именем `categorize_purpose()` и метод `apply()`. Изучите данные в столбце `purpose` и определите, какие подстроки помогут вам правильно определить категорию.**"
   ]
  },
  {
   "cell_type": "code",
   "execution_count": 69,
   "id": "1e698d21",
   "metadata": {
    "deletable": false,
    "id": "e149fab4"
   },
   "outputs": [],
   "source": [
    "def categorize_purpose(row):\n",
    "    try:\n",
    "        if 'автом' in row:\n",
    "            return 'операции с автомобилем'\n",
    "        elif 'жил' in row or 'недвиж' in row:\n",
    "            return 'операции с недвижимостью'\n",
    "        elif 'свад' in row:\n",
    "            return 'проведение свадьбы'\n",
    "        elif 'образов' in row:\n",
    "            return 'получение образования'\n",
    "    except:\n",
    "        return 'нет категории'"
   ]
  },
  {
   "cell_type": "code",
   "execution_count": 70,
   "id": "6af89b2a",
   "metadata": {
    "deletable": false,
    "id": "bf36e69b"
   },
   "outputs": [],
   "source": [
    "data['purpose_category'] = data['purpose'].apply(categorize_purpose)"
   ]
  },
  {
   "cell_type": "markdown",
   "id": "1eba23e2",
   "metadata": {
    "deletable": false,
    "editable": false,
    "id": "09b242bf"
   },
   "source": [
    "### Шаг 3. Исследуйте данные и ответьте на вопросы"
   ]
  },
  {
   "cell_type": "markdown",
   "id": "d02b0d7f",
   "metadata": {},
   "source": [
    "**Анзор, приветствую! Приятно познакомиться, меня зовут Алексей. Спасибо за ревью моих решений!)** Исправил свои ошибки и доработал исследование. Чтобы нам было удобнее работать я выделил участки, на которых произошли измененения синим цветом словом 'Дополнение', вот так: <font color='blue'>**ДОПОЛНЕНИЕ**</font>"
   ]
  },
  {
   "cell_type": "markdown",
   "id": "df15c467",
   "metadata": {},
   "source": [
    "**Посмотрим на наш датафрейм**\n"
   ]
  },
  {
   "cell_type": "code",
   "execution_count": 71,
   "id": "7403a6b7",
   "metadata": {},
   "outputs": [
    {
     "data": {
      "text/html": [
       "<div>\n",
       "<style scoped>\n",
       "    .dataframe tbody tr th:only-of-type {\n",
       "        vertical-align: middle;\n",
       "    }\n",
       "\n",
       "    .dataframe tbody tr th {\n",
       "        vertical-align: top;\n",
       "    }\n",
       "\n",
       "    .dataframe thead th {\n",
       "        text-align: right;\n",
       "    }\n",
       "</style>\n",
       "<table border=\"1\" class=\"dataframe\">\n",
       "  <thead>\n",
       "    <tr style=\"text-align: right;\">\n",
       "      <th></th>\n",
       "      <th>children</th>\n",
       "      <th>days_employed</th>\n",
       "      <th>dob_years</th>\n",
       "      <th>education</th>\n",
       "      <th>education_id</th>\n",
       "      <th>family_status</th>\n",
       "      <th>family_status_id</th>\n",
       "      <th>gender</th>\n",
       "      <th>income_type</th>\n",
       "      <th>debt</th>\n",
       "      <th>total_income</th>\n",
       "      <th>purpose</th>\n",
       "      <th>total_income_category</th>\n",
       "      <th>purpose_category</th>\n",
       "    </tr>\n",
       "  </thead>\n",
       "  <tbody>\n",
       "    <tr>\n",
       "      <th>0</th>\n",
       "      <td>1</td>\n",
       "      <td>8437.673028</td>\n",
       "      <td>42</td>\n",
       "      <td>высшее</td>\n",
       "      <td>0</td>\n",
       "      <td>женат / замужем</td>\n",
       "      <td>0</td>\n",
       "      <td>F</td>\n",
       "      <td>сотрудник</td>\n",
       "      <td>0</td>\n",
       "      <td>253875</td>\n",
       "      <td>покупка жилья</td>\n",
       "      <td>B</td>\n",
       "      <td>операции с недвижимостью</td>\n",
       "    </tr>\n",
       "    <tr>\n",
       "      <th>1</th>\n",
       "      <td>1</td>\n",
       "      <td>4024.803754</td>\n",
       "      <td>36</td>\n",
       "      <td>среднее</td>\n",
       "      <td>1</td>\n",
       "      <td>женат / замужем</td>\n",
       "      <td>0</td>\n",
       "      <td>F</td>\n",
       "      <td>сотрудник</td>\n",
       "      <td>0</td>\n",
       "      <td>112080</td>\n",
       "      <td>приобретение автомобиля</td>\n",
       "      <td>C</td>\n",
       "      <td>операции с автомобилем</td>\n",
       "    </tr>\n",
       "    <tr>\n",
       "      <th>2</th>\n",
       "      <td>0</td>\n",
       "      <td>5623.422610</td>\n",
       "      <td>33</td>\n",
       "      <td>среднее</td>\n",
       "      <td>1</td>\n",
       "      <td>женат / замужем</td>\n",
       "      <td>0</td>\n",
       "      <td>M</td>\n",
       "      <td>сотрудник</td>\n",
       "      <td>0</td>\n",
       "      <td>145885</td>\n",
       "      <td>покупка жилья</td>\n",
       "      <td>C</td>\n",
       "      <td>операции с недвижимостью</td>\n",
       "    </tr>\n",
       "    <tr>\n",
       "      <th>3</th>\n",
       "      <td>3</td>\n",
       "      <td>4124.747207</td>\n",
       "      <td>32</td>\n",
       "      <td>среднее</td>\n",
       "      <td>1</td>\n",
       "      <td>женат / замужем</td>\n",
       "      <td>0</td>\n",
       "      <td>M</td>\n",
       "      <td>сотрудник</td>\n",
       "      <td>0</td>\n",
       "      <td>267628</td>\n",
       "      <td>дополнительное образование</td>\n",
       "      <td>B</td>\n",
       "      <td>получение образования</td>\n",
       "    </tr>\n",
       "    <tr>\n",
       "      <th>4</th>\n",
       "      <td>0</td>\n",
       "      <td>340266.072047</td>\n",
       "      <td>53</td>\n",
       "      <td>среднее</td>\n",
       "      <td>1</td>\n",
       "      <td>гражданский брак</td>\n",
       "      <td>1</td>\n",
       "      <td>F</td>\n",
       "      <td>пенсионер</td>\n",
       "      <td>0</td>\n",
       "      <td>158616</td>\n",
       "      <td>сыграть свадьбу</td>\n",
       "      <td>C</td>\n",
       "      <td>проведение свадьбы</td>\n",
       "    </tr>\n",
       "  </tbody>\n",
       "</table>\n",
       "</div>"
      ],
      "text/plain": [
       "   children  days_employed  dob_years education  education_id  \\\n",
       "0         1    8437.673028         42    высшее             0   \n",
       "1         1    4024.803754         36   среднее             1   \n",
       "2         0    5623.422610         33   среднее             1   \n",
       "3         3    4124.747207         32   среднее             1   \n",
       "4         0  340266.072047         53   среднее             1   \n",
       "\n",
       "      family_status  family_status_id gender income_type  debt  total_income  \\\n",
       "0   женат / замужем                 0      F   сотрудник     0        253875   \n",
       "1   женат / замужем                 0      F   сотрудник     0        112080   \n",
       "2   женат / замужем                 0      M   сотрудник     0        145885   \n",
       "3   женат / замужем                 0      M   сотрудник     0        267628   \n",
       "4  гражданский брак                 1      F   пенсионер     0        158616   \n",
       "\n",
       "                      purpose total_income_category          purpose_category  \n",
       "0               покупка жилья                     B  операции с недвижимостью  \n",
       "1     приобретение автомобиля                     C    операции с автомобилем  \n",
       "2               покупка жилья                     C  операции с недвижимостью  \n",
       "3  дополнительное образование                     B     получение образования  \n",
       "4             сыграть свадьбу                     C        проведение свадьбы  "
      ]
     },
     "execution_count": 71,
     "metadata": {},
     "output_type": "execute_result"
    }
   ],
   "source": [
    "data.head()"
   ]
  },
  {
   "cell_type": "markdown",
   "id": "f91bc4ec",
   "metadata": {
    "deletable": false,
    "editable": false,
    "id": "c5d66278"
   },
   "source": [
    "#### 3.1 Есть ли зависимость между количеством детей и возвратом кредита в срок?"
   ]
  },
  {
   "cell_type": "markdown",
   "id": "765e4915",
   "metadata": {},
   "source": [
    "**Для ответа на этот вопрос сагрегируем данные. Поскольку feature debt является бинарной, то среднее по этому столбцу, в зависимости от категории покажет нам долю невозврата. Итак, сгруппируем данные по children**"
   ]
  },
  {
   "cell_type": "code",
   "execution_count": 72,
   "id": "af0510b5",
   "metadata": {},
   "outputs": [
    {
     "data": {
      "text/html": [
       "<div>\n",
       "<style scoped>\n",
       "    .dataframe tbody tr th:only-of-type {\n",
       "        vertical-align: middle;\n",
       "    }\n",
       "\n",
       "    .dataframe tbody tr th {\n",
       "        vertical-align: top;\n",
       "    }\n",
       "\n",
       "    .dataframe thead th {\n",
       "        text-align: right;\n",
       "    }\n",
       "</style>\n",
       "<table border=\"1\" class=\"dataframe\">\n",
       "  <thead>\n",
       "    <tr style=\"text-align: right;\">\n",
       "      <th></th>\n",
       "      <th>count</th>\n",
       "      <th>mean</th>\n",
       "      <th>sum</th>\n",
       "    </tr>\n",
       "    <tr>\n",
       "      <th>children</th>\n",
       "      <th></th>\n",
       "      <th></th>\n",
       "      <th></th>\n",
       "    </tr>\n",
       "  </thead>\n",
       "  <tbody>\n",
       "    <tr>\n",
       "      <th>0</th>\n",
       "      <td>14091</td>\n",
       "      <td>0.075438</td>\n",
       "      <td>1063</td>\n",
       "    </tr>\n",
       "    <tr>\n",
       "      <th>1</th>\n",
       "      <td>4808</td>\n",
       "      <td>0.092346</td>\n",
       "      <td>444</td>\n",
       "    </tr>\n",
       "    <tr>\n",
       "      <th>2</th>\n",
       "      <td>2052</td>\n",
       "      <td>0.094542</td>\n",
       "      <td>194</td>\n",
       "    </tr>\n",
       "    <tr>\n",
       "      <th>3</th>\n",
       "      <td>330</td>\n",
       "      <td>0.081818</td>\n",
       "      <td>27</td>\n",
       "    </tr>\n",
       "    <tr>\n",
       "      <th>4</th>\n",
       "      <td>41</td>\n",
       "      <td>0.097561</td>\n",
       "      <td>4</td>\n",
       "    </tr>\n",
       "    <tr>\n",
       "      <th>5</th>\n",
       "      <td>9</td>\n",
       "      <td>0.000000</td>\n",
       "      <td>0</td>\n",
       "    </tr>\n",
       "  </tbody>\n",
       "</table>\n",
       "</div>"
      ],
      "text/plain": [
       "          count      mean   sum\n",
       "children                       \n",
       "0         14091  0.075438  1063\n",
       "1          4808  0.092346   444\n",
       "2          2052  0.094542   194\n",
       "3           330  0.081818    27\n",
       "4            41  0.097561     4\n",
       "5             9  0.000000     0"
      ]
     },
     "execution_count": 72,
     "metadata": {},
     "output_type": "execute_result"
    }
   ],
   "source": [
    "# применим три функции агрегации\n",
    "\n",
    "data.groupby('children')['debt'].agg(['count', 'mean', 'sum'])"
   ]
  },
  {
   "cell_type": "markdown",
   "id": "2c1ce77d",
   "metadata": {},
   "source": [
    "**Из таблицы я вижу 6 категорий, от 0 до 5 детей. И наблюдается следующее:**\n",
    "\n",
    "* Для бездетных - 7.5% невозврат\n",
    "* Для 1 ребенка  - 9.2% невозврат\n",
    "* Для 2 детей - 9.4% невозврат\n",
    "* Для 3 детей - 8.1% невозврат\n",
    "\n",
    "**Но поскольку последние 2 группы содержат мало данных, я предлагаю разделить данные о детях на следующие категории:**\n",
    "\n",
    "* нет детей\n",
    "* 1 ребенок\n",
    "* 2 ребенка\n",
    "* многодетные (>2 детей)"
   ]
  },
  {
   "cell_type": "code",
   "execution_count": 73,
   "id": "07289722",
   "metadata": {},
   "outputs": [],
   "source": [
    "# напишем функцию для категоризации детей)):\n",
    "\n",
    "def category_cheldren(children):\n",
    "    try:\n",
    "        if children == 0:\n",
    "            return 'нет детей'\n",
    "\n",
    "        elif children == 1:\n",
    "            return '1 ребенок'\n",
    "\n",
    "        elif children == 2:\n",
    "            return '2 ребенка'\n",
    "\n",
    "        elif children > 2:\n",
    "            return 'многодетные'\n",
    "    except:\n",
    "            pass"
   ]
  },
  {
   "cell_type": "code",
   "execution_count": 74,
   "id": "02f81ded",
   "metadata": {},
   "outputs": [],
   "source": [
    "# применяю функцию \n",
    "\n",
    "data['category_children'] = data['children'].apply(category_cheldren)"
   ]
  },
  {
   "cell_type": "code",
   "execution_count": 75,
   "id": "e31c95cb",
   "metadata": {},
   "outputs": [
    {
     "data": {
      "text/html": [
       "<div>\n",
       "<style scoped>\n",
       "    .dataframe tbody tr th:only-of-type {\n",
       "        vertical-align: middle;\n",
       "    }\n",
       "\n",
       "    .dataframe tbody tr th {\n",
       "        vertical-align: top;\n",
       "    }\n",
       "\n",
       "    .dataframe thead th {\n",
       "        text-align: right;\n",
       "    }\n",
       "</style>\n",
       "<table border=\"1\" class=\"dataframe\">\n",
       "  <thead>\n",
       "    <tr style=\"text-align: right;\">\n",
       "      <th></th>\n",
       "      <th>children</th>\n",
       "      <th>days_employed</th>\n",
       "      <th>dob_years</th>\n",
       "      <th>education</th>\n",
       "      <th>education_id</th>\n",
       "      <th>family_status</th>\n",
       "      <th>family_status_id</th>\n",
       "      <th>gender</th>\n",
       "      <th>income_type</th>\n",
       "      <th>debt</th>\n",
       "      <th>total_income</th>\n",
       "      <th>purpose</th>\n",
       "      <th>total_income_category</th>\n",
       "      <th>purpose_category</th>\n",
       "      <th>category_children</th>\n",
       "    </tr>\n",
       "  </thead>\n",
       "  <tbody>\n",
       "    <tr>\n",
       "      <th>0</th>\n",
       "      <td>1</td>\n",
       "      <td>8437.673028</td>\n",
       "      <td>42</td>\n",
       "      <td>высшее</td>\n",
       "      <td>0</td>\n",
       "      <td>женат / замужем</td>\n",
       "      <td>0</td>\n",
       "      <td>F</td>\n",
       "      <td>сотрудник</td>\n",
       "      <td>0</td>\n",
       "      <td>253875</td>\n",
       "      <td>покупка жилья</td>\n",
       "      <td>B</td>\n",
       "      <td>операции с недвижимостью</td>\n",
       "      <td>1 ребенок</td>\n",
       "    </tr>\n",
       "    <tr>\n",
       "      <th>1</th>\n",
       "      <td>1</td>\n",
       "      <td>4024.803754</td>\n",
       "      <td>36</td>\n",
       "      <td>среднее</td>\n",
       "      <td>1</td>\n",
       "      <td>женат / замужем</td>\n",
       "      <td>0</td>\n",
       "      <td>F</td>\n",
       "      <td>сотрудник</td>\n",
       "      <td>0</td>\n",
       "      <td>112080</td>\n",
       "      <td>приобретение автомобиля</td>\n",
       "      <td>C</td>\n",
       "      <td>операции с автомобилем</td>\n",
       "      <td>1 ребенок</td>\n",
       "    </tr>\n",
       "    <tr>\n",
       "      <th>2</th>\n",
       "      <td>0</td>\n",
       "      <td>5623.422610</td>\n",
       "      <td>33</td>\n",
       "      <td>среднее</td>\n",
       "      <td>1</td>\n",
       "      <td>женат / замужем</td>\n",
       "      <td>0</td>\n",
       "      <td>M</td>\n",
       "      <td>сотрудник</td>\n",
       "      <td>0</td>\n",
       "      <td>145885</td>\n",
       "      <td>покупка жилья</td>\n",
       "      <td>C</td>\n",
       "      <td>операции с недвижимостью</td>\n",
       "      <td>нет детей</td>\n",
       "    </tr>\n",
       "    <tr>\n",
       "      <th>3</th>\n",
       "      <td>3</td>\n",
       "      <td>4124.747207</td>\n",
       "      <td>32</td>\n",
       "      <td>среднее</td>\n",
       "      <td>1</td>\n",
       "      <td>женат / замужем</td>\n",
       "      <td>0</td>\n",
       "      <td>M</td>\n",
       "      <td>сотрудник</td>\n",
       "      <td>0</td>\n",
       "      <td>267628</td>\n",
       "      <td>дополнительное образование</td>\n",
       "      <td>B</td>\n",
       "      <td>получение образования</td>\n",
       "      <td>многодетные</td>\n",
       "    </tr>\n",
       "    <tr>\n",
       "      <th>4</th>\n",
       "      <td>0</td>\n",
       "      <td>340266.072047</td>\n",
       "      <td>53</td>\n",
       "      <td>среднее</td>\n",
       "      <td>1</td>\n",
       "      <td>гражданский брак</td>\n",
       "      <td>1</td>\n",
       "      <td>F</td>\n",
       "      <td>пенсионер</td>\n",
       "      <td>0</td>\n",
       "      <td>158616</td>\n",
       "      <td>сыграть свадьбу</td>\n",
       "      <td>C</td>\n",
       "      <td>проведение свадьбы</td>\n",
       "      <td>нет детей</td>\n",
       "    </tr>\n",
       "  </tbody>\n",
       "</table>\n",
       "</div>"
      ],
      "text/plain": [
       "   children  days_employed  dob_years education  education_id  \\\n",
       "0         1    8437.673028         42    высшее             0   \n",
       "1         1    4024.803754         36   среднее             1   \n",
       "2         0    5623.422610         33   среднее             1   \n",
       "3         3    4124.747207         32   среднее             1   \n",
       "4         0  340266.072047         53   среднее             1   \n",
       "\n",
       "      family_status  family_status_id gender income_type  debt  total_income  \\\n",
       "0   женат / замужем                 0      F   сотрудник     0        253875   \n",
       "1   женат / замужем                 0      F   сотрудник     0        112080   \n",
       "2   женат / замужем                 0      M   сотрудник     0        145885   \n",
       "3   женат / замужем                 0      M   сотрудник     0        267628   \n",
       "4  гражданский брак                 1      F   пенсионер     0        158616   \n",
       "\n",
       "                      purpose total_income_category          purpose_category  \\\n",
       "0               покупка жилья                     B  операции с недвижимостью   \n",
       "1     приобретение автомобиля                     C    операции с автомобилем   \n",
       "2               покупка жилья                     C  операции с недвижимостью   \n",
       "3  дополнительное образование                     B     получение образования   \n",
       "4             сыграть свадьбу                     C        проведение свадьбы   \n",
       "\n",
       "  category_children  \n",
       "0         1 ребенок  \n",
       "1         1 ребенок  \n",
       "2         нет детей  \n",
       "3       многодетные  \n",
       "4         нет детей  "
      ]
     },
     "execution_count": 75,
     "metadata": {},
     "output_type": "execute_result"
    }
   ],
   "source": [
    "data.head()"
   ]
  },
  {
   "cell_type": "markdown",
   "id": "6e60d572",
   "metadata": {},
   "source": [
    "**Сагрегируем данные еще раз, но теперь на новый столбец category_children.**"
   ]
  },
  {
   "cell_type": "code",
   "execution_count": 76,
   "id": "7ada91c7",
   "metadata": {},
   "outputs": [
    {
     "data": {
      "text/html": [
       "<div>\n",
       "<style scoped>\n",
       "    .dataframe tbody tr th:only-of-type {\n",
       "        vertical-align: middle;\n",
       "    }\n",
       "\n",
       "    .dataframe tbody tr th {\n",
       "        vertical-align: top;\n",
       "    }\n",
       "\n",
       "    .dataframe thead th {\n",
       "        text-align: right;\n",
       "    }\n",
       "</style>\n",
       "<table border=\"1\" class=\"dataframe\">\n",
       "  <thead>\n",
       "    <tr style=\"text-align: right;\">\n",
       "      <th></th>\n",
       "      <th>count</th>\n",
       "      <th>mean</th>\n",
       "      <th>sum</th>\n",
       "    </tr>\n",
       "    <tr>\n",
       "      <th>category_children</th>\n",
       "      <th></th>\n",
       "      <th></th>\n",
       "      <th></th>\n",
       "    </tr>\n",
       "  </thead>\n",
       "  <tbody>\n",
       "    <tr>\n",
       "      <th>нет детей</th>\n",
       "      <td>14091</td>\n",
       "      <td>0.075438</td>\n",
       "      <td>1063</td>\n",
       "    </tr>\n",
       "    <tr>\n",
       "      <th>многодетные</th>\n",
       "      <td>380</td>\n",
       "      <td>0.081579</td>\n",
       "      <td>31</td>\n",
       "    </tr>\n",
       "    <tr>\n",
       "      <th>1 ребенок</th>\n",
       "      <td>4808</td>\n",
       "      <td>0.092346</td>\n",
       "      <td>444</td>\n",
       "    </tr>\n",
       "    <tr>\n",
       "      <th>2 ребенка</th>\n",
       "      <td>2052</td>\n",
       "      <td>0.094542</td>\n",
       "      <td>194</td>\n",
       "    </tr>\n",
       "  </tbody>\n",
       "</table>\n",
       "</div>"
      ],
      "text/plain": [
       "                   count      mean   sum\n",
       "category_children                       \n",
       "нет детей          14091  0.075438  1063\n",
       "многодетные          380  0.081579    31\n",
       "1 ребенок           4808  0.092346   444\n",
       "2 ребенка           2052  0.094542   194"
      ]
     },
     "execution_count": 76,
     "metadata": {},
     "output_type": "execute_result"
    }
   ],
   "source": [
    "# сагрегируем и отсортируем по возрастанию доли невозврата\n",
    "data.groupby('category_children')['debt'].agg(['count', 'mean', 'sum']).sort_values(by='mean')"
   ]
  },
  {
   "cell_type": "markdown",
   "id": "08afdd08",
   "metadata": {},
   "source": [
    "**В целом, мы видим динамику:**\n",
    "\n",
    "* Наибольший возврат наблюдается у людей без детей\n",
    "* С увеличением количества детей, доля возврата уменьшается\n"
   ]
  },
  {
   "cell_type": "markdown",
   "id": "ce554684",
   "metadata": {},
   "source": [
    " <font color='blue'>**ДОПОЛНЕНИЕ**</font> "
   ]
  },
  {
   "cell_type": "code",
   "execution_count": 77,
   "id": "1c3f5aa2",
   "metadata": {},
   "outputs": [],
   "source": [
    "# напишем функцию для категоризации детей)):\n",
    "\n",
    "def category_cheldren(children):\n",
    "    try:\n",
    "        if children == 0:\n",
    "            return 'нет детей'\n",
    "\n",
    "        elif children == 1:\n",
    "            return '1 ребенок'\n",
    "\n",
    "        elif children >= 2:\n",
    "            return 'многодетные'\n",
    "\n",
    "    except:\n",
    "            pass"
   ]
  },
  {
   "cell_type": "code",
   "execution_count": 78,
   "id": "85cb2d11",
   "metadata": {},
   "outputs": [],
   "source": [
    "# Согласен, Анзор! Тогда можно попробовать включить 2 детей в категорию многодетных и посмотреть, что будет:\n",
    "    \n",
    "data['category_children_2'] = data['children'].apply(category_cheldren)"
   ]
  },
  {
   "cell_type": "code",
   "execution_count": 79,
   "id": "9e08041b",
   "metadata": {},
   "outputs": [
    {
     "data": {
      "text/html": [
       "<div>\n",
       "<style scoped>\n",
       "    .dataframe tbody tr th:only-of-type {\n",
       "        vertical-align: middle;\n",
       "    }\n",
       "\n",
       "    .dataframe tbody tr th {\n",
       "        vertical-align: top;\n",
       "    }\n",
       "\n",
       "    .dataframe thead th {\n",
       "        text-align: right;\n",
       "    }\n",
       "</style>\n",
       "<table border=\"1\" class=\"dataframe\">\n",
       "  <thead>\n",
       "    <tr style=\"text-align: right;\">\n",
       "      <th></th>\n",
       "      <th>count</th>\n",
       "      <th>mean</th>\n",
       "      <th>sum</th>\n",
       "    </tr>\n",
       "    <tr>\n",
       "      <th>category_children_2</th>\n",
       "      <th></th>\n",
       "      <th></th>\n",
       "      <th></th>\n",
       "    </tr>\n",
       "  </thead>\n",
       "  <tbody>\n",
       "    <tr>\n",
       "      <th>1 ребенок</th>\n",
       "      <td>4808</td>\n",
       "      <td>0.092346</td>\n",
       "      <td>444</td>\n",
       "    </tr>\n",
       "    <tr>\n",
       "      <th>многодетные</th>\n",
       "      <td>2432</td>\n",
       "      <td>0.092516</td>\n",
       "      <td>225</td>\n",
       "    </tr>\n",
       "    <tr>\n",
       "      <th>нет детей</th>\n",
       "      <td>14091</td>\n",
       "      <td>0.075438</td>\n",
       "      <td>1063</td>\n",
       "    </tr>\n",
       "  </tbody>\n",
       "</table>\n",
       "</div>"
      ],
      "text/plain": [
       "                     count      mean   sum\n",
       "category_children_2                       \n",
       "1 ребенок             4808  0.092346   444\n",
       "многодетные           2432  0.092516   225\n",
       "нет детей            14091  0.075438  1063"
      ]
     },
     "execution_count": 79,
     "metadata": {},
     "output_type": "execute_result"
    }
   ],
   "source": [
    "data.groupby('category_children_2')['debt'].agg(['count', 'mean', 'sum'])"
   ]
  },
  {
   "cell_type": "code",
   "execution_count": 80,
   "id": "d53fdd2c",
   "metadata": {},
   "outputs": [],
   "source": [
    "# После включения группы из 2 детей в многодетных количество наблюдений увеличилось, и тенденция невозврата теперь \n",
    "# просматривается лучше."
   ]
  },
  {
   "cell_type": "markdown",
   "id": "bac5d039",
   "metadata": {},
   "source": [
    "**Теперь воспользуемся коэффициентом корреляции phik для выявления зависимости между целевым столбцом debt и нецелевыми столбцами.**"
   ]
  },
  {
   "cell_type": "code",
   "execution_count": 81,
   "id": "c4bfec21",
   "metadata": {},
   "outputs": [],
   "source": [
    "\n",
    "import phik\n",
    "import seaborn as sns"
   ]
  },
  {
   "cell_type": "code",
   "execution_count": 82,
   "id": "2db4dc82",
   "metadata": {},
   "outputs": [
    {
     "name": "stdout",
     "output_type": "stream",
     "text": [
      "interval columns not set, guessing: ['children', 'days_employed', 'dob_years', 'education_id', 'family_status_id', 'debt', 'total_income']\n"
     ]
    }
   ],
   "source": [
    "# расчет phik\n",
    "phik = data.phik_matrix()"
   ]
  },
  {
   "cell_type": "code",
   "execution_count": 83,
   "id": "d81a8cc9",
   "metadata": {},
   "outputs": [
    {
     "data": {
      "text/plain": [
       "debt                     1.000000\n",
       "income_type              0.083525\n",
       "dob_years                0.068599\n",
       "purpose_category         0.050060\n",
       "education                0.047145\n",
       "education_id             0.047145\n",
       "category_children        0.041601\n",
       "children                 0.037015\n",
       "gender                   0.033420\n",
       "purpose                  0.032239\n",
       "family_status            0.027289\n",
       "family_status_id         0.027289\n",
       "days_employed            0.024321\n",
       "total_income             0.017078\n",
       "category_children_2      0.016724\n",
       "total_income_category    0.016502\n",
       "Name: debt, dtype: float64"
      ]
     },
     "execution_count": 83,
     "metadata": {},
     "output_type": "execute_result"
    }
   ],
   "source": [
    "# Отмечу, что коэффициент корреляции phik фиксирует и нелинейные зависимости\n",
    "phik['debt'].sort_values(ascending=False)"
   ]
  },
  {
   "cell_type": "markdown",
   "id": "f8071b7a",
   "metadata": {},
   "source": [
    "**Мы видим, что total_income_category влияет на целевую переменную debt**"
   ]
  },
  {
   "cell_type": "code",
   "execution_count": 84,
   "id": "58593be2",
   "metadata": {},
   "outputs": [
    {
     "data": {
      "text/plain": [
       "<AxesSubplot:>"
      ]
     },
     "execution_count": 84,
     "metadata": {},
     "output_type": "execute_result"
    },
    {
     "data": {
      "image/png": "[encoded data removed]",
      "text/plain": [
       "<Figure size 432x288 with 2 Axes>"
      ]
     },
     "metadata": {
      "needs_background": "light"
     },
     "output_type": "display_data"
    }
   ],
   "source": [
    "# построим heatmap для визуализации влияния переменных друг на друга.\n",
    "sns.heatmap(phik)"
   ]
  },
  {
   "cell_type": "markdown",
   "id": "bd5b14d8",
   "metadata": {},
   "source": [
    "**По горячей карте мы можем отслуживать значимость переменных на итогую целевую переменную**"
   ]
  },
  {
   "cell_type": "code",
   "execution_count": 85,
   "id": "feb983ab",
   "metadata": {
    "deletable": false,
    "id": "2cacfc4a"
   },
   "outputs": [],
   "source": [
    "# Да, перетупал зависимость. Исправил)"
   ]
  },
  {
   "cell_type": "markdown",
   "id": "971ddfec",
   "metadata": {},
   "source": [
    " <font color='blue'>**ДОПОЛНЕНИЕ**</font> "
   ]
  },
  {
   "cell_type": "markdown",
   "id": "e71a6ac3",
   "metadata": {
    "deletable": false,
    "id": "3a6b99ec"
   },
   "source": [
    "**Вывод: зависимость между количеством детей и возвратом кредита в срок есть:**\n",
    "* Наибольшая доля возврата наблюдается у людей без детей;\n",
    "* С увеличением количества детей наблюдается увеличение доли невозврата! "
   ]
  },
  {
   "cell_type": "markdown",
   "id": "a4dca8b8",
   "metadata": {
    "deletable": false,
    "editable": false,
    "id": "97be82ca"
   },
   "source": [
    "#### 3.2 Есть ли зависимость между семейным положением и возвратом кредита в срок?"
   ]
  },
  {
   "cell_type": "code",
   "execution_count": 86,
   "id": "eba3e03f",
   "metadata": {
    "deletable": false,
    "id": "dc3f7ee8"
   },
   "outputs": [],
   "source": [
    "# Ваш код будет здесь. Вы можете создавать новые ячейки"
   ]
  },
  {
   "cell_type": "markdown",
   "id": "8e21f9f1",
   "metadata": {},
   "source": [
    "**Для ответа на этот вопрос сагрегируем данные. Поскольку feature debt является бинарной, то среднее по этому столбцу, в зависимости от категории покажет нам долю невозврата. Итак, сгруппируем данные по family_status**"
   ]
  },
  {
   "cell_type": "code",
   "execution_count": 87,
   "id": "91688008",
   "metadata": {},
   "outputs": [
    {
     "data": {
      "text/html": [
       "<div>\n",
       "<style scoped>\n",
       "    .dataframe tbody tr th:only-of-type {\n",
       "        vertical-align: middle;\n",
       "    }\n",
       "\n",
       "    .dataframe tbody tr th {\n",
       "        vertical-align: top;\n",
       "    }\n",
       "\n",
       "    .dataframe thead th {\n",
       "        text-align: right;\n",
       "    }\n",
       "</style>\n",
       "<table border=\"1\" class=\"dataframe\">\n",
       "  <thead>\n",
       "    <tr style=\"text-align: right;\">\n",
       "      <th></th>\n",
       "      <th>count</th>\n",
       "      <th>mean</th>\n",
       "      <th>sum</th>\n",
       "    </tr>\n",
       "    <tr>\n",
       "      <th>family_status</th>\n",
       "      <th></th>\n",
       "      <th></th>\n",
       "      <th></th>\n",
       "    </tr>\n",
       "  </thead>\n",
       "  <tbody>\n",
       "    <tr>\n",
       "      <th>Не женат / не замужем</th>\n",
       "      <td>2796</td>\n",
       "      <td>0.097639</td>\n",
       "      <td>273</td>\n",
       "    </tr>\n",
       "    <tr>\n",
       "      <th>в разводе</th>\n",
       "      <td>1189</td>\n",
       "      <td>0.070648</td>\n",
       "      <td>84</td>\n",
       "    </tr>\n",
       "    <tr>\n",
       "      <th>вдовец / вдова</th>\n",
       "      <td>951</td>\n",
       "      <td>0.066246</td>\n",
       "      <td>63</td>\n",
       "    </tr>\n",
       "    <tr>\n",
       "      <th>гражданский брак</th>\n",
       "      <td>4134</td>\n",
       "      <td>0.093130</td>\n",
       "      <td>385</td>\n",
       "    </tr>\n",
       "    <tr>\n",
       "      <th>женат / замужем</th>\n",
       "      <td>12261</td>\n",
       "      <td>0.075606</td>\n",
       "      <td>927</td>\n",
       "    </tr>\n",
       "  </tbody>\n",
       "</table>\n",
       "</div>"
      ],
      "text/plain": [
       "                       count      mean  sum\n",
       "family_status                              \n",
       "Не женат / не замужем   2796  0.097639  273\n",
       "в разводе               1189  0.070648   84\n",
       "вдовец / вдова           951  0.066246   63\n",
       "гражданский брак        4134  0.093130  385\n",
       "женат / замужем        12261  0.075606  927"
      ]
     },
     "execution_count": 87,
     "metadata": {},
     "output_type": "execute_result"
    }
   ],
   "source": [
    "# применим три функции агрегации\n",
    "\n",
    "data.groupby('family_status')['debt'].agg(['count', 'mean', 'sum'])"
   ]
  },
  {
   "cell_type": "markdown",
   "id": "53a269a2",
   "metadata": {},
   "source": [
    "**Из таблицы я вижу 5 категорий. И наблюдается следующее:**\n",
    "\n",
    "* Не женат / не замужем - 9.7% невозврат\n",
    "* в разводе\t            - 7% невозврат\n",
    "* вдовец / вдова        - 6.6% невозврат\n",
    "* гражданский брак\t    - 9.3% невозврат\n",
    "* женат / замужем\t    - 7.5% невозврат\n",
    "\n"
   ]
  },
  {
   "cell_type": "markdown",
   "id": "8f0f73d9",
   "metadata": {},
   "source": [
    "**В целом, мы видим динамику:**\n",
    "\n",
    "* Наименьший невозврат наблюдается у категории (вдовец / вдова) и категории (в разводе) и (женат / замужем)\n",
    "* Наибольший невозврат наблюдается у тех, кто в гражданком браке, не женет / не замужем"
   ]
  },
  {
   "cell_type": "markdown",
   "id": "862624a9",
   "metadata": {
    "deletable": false,
    "id": "1cef7837"
   },
   "source": [
    "**Вывод: зависимость между семейным положением и возвратом кредита в срок есть. Семейный человек (или в разводе) с большей вероятностью вернет кредит. Те, кто находятся в гражданком браке или вообще не были в браке, имею меньше шансов на возврат кредита!** "
   ]
  },
  {
   "cell_type": "code",
   "execution_count": 88,
   "id": "197dde39",
   "metadata": {},
   "outputs": [
    {
     "data": {
      "text/html": [
       "<div>\n",
       "<style scoped>\n",
       "    .dataframe tbody tr th:only-of-type {\n",
       "        vertical-align: middle;\n",
       "    }\n",
       "\n",
       "    .dataframe tbody tr th {\n",
       "        vertical-align: top;\n",
       "    }\n",
       "\n",
       "    .dataframe thead th {\n",
       "        text-align: right;\n",
       "    }\n",
       "</style>\n",
       "<table border=\"1\" class=\"dataframe\">\n",
       "  <thead>\n",
       "    <tr style=\"text-align: right;\">\n",
       "      <th></th>\n",
       "      <th></th>\n",
       "      <th>count</th>\n",
       "      <th>mean</th>\n",
       "      <th>sum</th>\n",
       "    </tr>\n",
       "    <tr>\n",
       "      <th>family_status</th>\n",
       "      <th>category_children</th>\n",
       "      <th></th>\n",
       "      <th></th>\n",
       "      <th></th>\n",
       "    </tr>\n",
       "  </thead>\n",
       "  <tbody>\n",
       "    <tr>\n",
       "      <th>женат / замужем</th>\n",
       "      <th>нет детей</th>\n",
       "      <td>7468</td>\n",
       "      <td>0.069095</td>\n",
       "      <td>516</td>\n",
       "    </tr>\n",
       "    <tr>\n",
       "      <th>в разводе</th>\n",
       "      <th>нет детей</th>\n",
       "      <td>784</td>\n",
       "      <td>0.070153</td>\n",
       "      <td>55</td>\n",
       "    </tr>\n",
       "    <tr>\n",
       "      <th>Не женат / не замужем</th>\n",
       "      <th>нет детей</th>\n",
       "      <td>2262</td>\n",
       "      <td>0.092838</td>\n",
       "      <td>210</td>\n",
       "    </tr>\n",
       "    <tr>\n",
       "      <th>гражданский брак</th>\n",
       "      <th>нет детей</th>\n",
       "      <td>2730</td>\n",
       "      <td>0.083883</td>\n",
       "      <td>229</td>\n",
       "    </tr>\n",
       "    <tr>\n",
       "      <th>вдовец / вдова</th>\n",
       "      <th>нет детей</th>\n",
       "      <td>847</td>\n",
       "      <td>0.062574</td>\n",
       "      <td>53</td>\n",
       "    </tr>\n",
       "    <tr>\n",
       "      <th>женат / замужем</th>\n",
       "      <th>многодетные</th>\n",
       "      <td>285</td>\n",
       "      <td>0.070175</td>\n",
       "      <td>20</td>\n",
       "    </tr>\n",
       "    <tr>\n",
       "      <th>гражданский брак</th>\n",
       "      <th>многодетные</th>\n",
       "      <td>66</td>\n",
       "      <td>0.121212</td>\n",
       "      <td>8</td>\n",
       "    </tr>\n",
       "    <tr>\n",
       "      <th>вдовец / вдова</th>\n",
       "      <th>многодетные</th>\n",
       "      <td>7</td>\n",
       "      <td>0.000000</td>\n",
       "      <td>0</td>\n",
       "    </tr>\n",
       "    <tr>\n",
       "      <th>в разводе</th>\n",
       "      <th>многодетные</th>\n",
       "      <td>12</td>\n",
       "      <td>0.083333</td>\n",
       "      <td>1</td>\n",
       "    </tr>\n",
       "    <tr>\n",
       "      <th>Не женат / не замужем</th>\n",
       "      <th>многодетные</th>\n",
       "      <td>10</td>\n",
       "      <td>0.200000</td>\n",
       "      <td>2</td>\n",
       "    </tr>\n",
       "    <tr>\n",
       "      <th>вдовец / вдова</th>\n",
       "      <th>2 ребенка</th>\n",
       "      <td>20</td>\n",
       "      <td>0.150000</td>\n",
       "      <td>3</td>\n",
       "    </tr>\n",
       "    <tr>\n",
       "      <th>Не женат / не замужем</th>\n",
       "      <th>2 ребенка</th>\n",
       "      <td>75</td>\n",
       "      <td>0.120000</td>\n",
       "      <td>9</td>\n",
       "    </tr>\n",
       "    <tr>\n",
       "      <th>гражданский брак</th>\n",
       "      <th>2 ребенка</th>\n",
       "      <td>343</td>\n",
       "      <td>0.087464</td>\n",
       "      <td>30</td>\n",
       "    </tr>\n",
       "    <tr>\n",
       "      <th>в разводе</th>\n",
       "      <th>2 ребенка</th>\n",
       "      <td>81</td>\n",
       "      <td>0.086420</td>\n",
       "      <td>7</td>\n",
       "    </tr>\n",
       "    <tr>\n",
       "      <th>женат / замужем</th>\n",
       "      <th>2 ребенка</th>\n",
       "      <td>1533</td>\n",
       "      <td>0.094586</td>\n",
       "      <td>145</td>\n",
       "    </tr>\n",
       "    <tr>\n",
       "      <th>вдовец / вдова</th>\n",
       "      <th>1 ребенок</th>\n",
       "      <td>77</td>\n",
       "      <td>0.090909</td>\n",
       "      <td>7</td>\n",
       "    </tr>\n",
       "    <tr>\n",
       "      <th>гражданский брак</th>\n",
       "      <th>1 ребенок</th>\n",
       "      <td>995</td>\n",
       "      <td>0.118593</td>\n",
       "      <td>118</td>\n",
       "    </tr>\n",
       "    <tr>\n",
       "      <th>в разводе</th>\n",
       "      <th>1 ребенок</th>\n",
       "      <td>312</td>\n",
       "      <td>0.067308</td>\n",
       "      <td>21</td>\n",
       "    </tr>\n",
       "    <tr>\n",
       "      <th>женат / замужем</th>\n",
       "      <th>1 ребенок</th>\n",
       "      <td>2975</td>\n",
       "      <td>0.082689</td>\n",
       "      <td>246</td>\n",
       "    </tr>\n",
       "    <tr>\n",
       "      <th>Не женат / не замужем</th>\n",
       "      <th>1 ребенок</th>\n",
       "      <td>449</td>\n",
       "      <td>0.115813</td>\n",
       "      <td>52</td>\n",
       "    </tr>\n",
       "  </tbody>\n",
       "</table>\n",
       "</div>"
      ],
      "text/plain": [
       "                                         count      mean  sum\n",
       "family_status         category_children                      \n",
       "женат / замужем       нет детей           7468  0.069095  516\n",
       "в разводе             нет детей            784  0.070153   55\n",
       "Не женат / не замужем нет детей           2262  0.092838  210\n",
       "гражданский брак      нет детей           2730  0.083883  229\n",
       "вдовец / вдова        нет детей            847  0.062574   53\n",
       "женат / замужем       многодетные          285  0.070175   20\n",
       "гражданский брак      многодетные           66  0.121212    8\n",
       "вдовец / вдова        многодетные            7  0.000000    0\n",
       "в разводе             многодетные           12  0.083333    1\n",
       "Не женат / не замужем многодетные           10  0.200000    2\n",
       "вдовец / вдова        2 ребенка             20  0.150000    3\n",
       "Не женат / не замужем 2 ребенка             75  0.120000    9\n",
       "гражданский брак      2 ребенка            343  0.087464   30\n",
       "в разводе             2 ребенка             81  0.086420    7\n",
       "женат / замужем       2 ребенка           1533  0.094586  145\n",
       "вдовец / вдова        1 ребенок             77  0.090909    7\n",
       "гражданский брак      1 ребенок            995  0.118593  118\n",
       "в разводе             1 ребенок            312  0.067308   21\n",
       "женат / замужем       1 ребенок           2975  0.082689  246\n",
       "Не женат / не замужем 1 ребенок            449  0.115813   52"
      ]
     },
     "execution_count": 88,
     "metadata": {},
     "output_type": "execute_result"
    }
   ],
   "source": [
    "# Изучив влияние количества детей и семейного положения сгруппируем их вместе, чтобы посмотреть влияние обеих \n",
    "# переменных на debt.\n",
    "\n",
    "t = data.groupby(['family_status', 'category_children'])['debt'].agg(['count', 'mean', 'sum']).sort_values(by='category_children', ascending=False)\n",
    "t"
   ]
  },
  {
   "cell_type": "code",
   "execution_count": 89,
   "id": "61c8b8ba",
   "metadata": {},
   "outputs": [
    {
     "data": {
      "text/html": [
       "<div>\n",
       "<style scoped>\n",
       "    .dataframe tbody tr th:only-of-type {\n",
       "        vertical-align: middle;\n",
       "    }\n",
       "\n",
       "    .dataframe tbody tr th {\n",
       "        vertical-align: top;\n",
       "    }\n",
       "\n",
       "    .dataframe thead th {\n",
       "        text-align: right;\n",
       "    }\n",
       "</style>\n",
       "<table border=\"1\" class=\"dataframe\">\n",
       "  <thead>\n",
       "    <tr style=\"text-align: right;\">\n",
       "      <th></th>\n",
       "      <th></th>\n",
       "      <th>count</th>\n",
       "      <th>mean</th>\n",
       "      <th>sum</th>\n",
       "    </tr>\n",
       "    <tr>\n",
       "      <th>family_status</th>\n",
       "      <th>category_children</th>\n",
       "      <th></th>\n",
       "      <th></th>\n",
       "      <th></th>\n",
       "    </tr>\n",
       "  </thead>\n",
       "  <tbody>\n",
       "    <tr>\n",
       "      <th>гражданский брак</th>\n",
       "      <th>1 ребенок</th>\n",
       "      <td>995</td>\n",
       "      <td>0.118593</td>\n",
       "      <td>118</td>\n",
       "    </tr>\n",
       "    <tr>\n",
       "      <th>Не женат / не замужем</th>\n",
       "      <th>1 ребенок</th>\n",
       "      <td>449</td>\n",
       "      <td>0.115813</td>\n",
       "      <td>52</td>\n",
       "    </tr>\n",
       "    <tr>\n",
       "      <th>женат / замужем</th>\n",
       "      <th>2 ребенка</th>\n",
       "      <td>1533</td>\n",
       "      <td>0.094586</td>\n",
       "      <td>145</td>\n",
       "    </tr>\n",
       "    <tr>\n",
       "      <th>Не женат / не замужем</th>\n",
       "      <th>нет детей</th>\n",
       "      <td>2262</td>\n",
       "      <td>0.092838</td>\n",
       "      <td>210</td>\n",
       "    </tr>\n",
       "    <tr>\n",
       "      <th rowspan=\"2\" valign=\"top\">гражданский брак</th>\n",
       "      <th>2 ребенка</th>\n",
       "      <td>343</td>\n",
       "      <td>0.087464</td>\n",
       "      <td>30</td>\n",
       "    </tr>\n",
       "    <tr>\n",
       "      <th>нет детей</th>\n",
       "      <td>2730</td>\n",
       "      <td>0.083883</td>\n",
       "      <td>229</td>\n",
       "    </tr>\n",
       "    <tr>\n",
       "      <th rowspan=\"2\" valign=\"top\">женат / замужем</th>\n",
       "      <th>1 ребенок</th>\n",
       "      <td>2975</td>\n",
       "      <td>0.082689</td>\n",
       "      <td>246</td>\n",
       "    </tr>\n",
       "    <tr>\n",
       "      <th>многодетные</th>\n",
       "      <td>285</td>\n",
       "      <td>0.070175</td>\n",
       "      <td>20</td>\n",
       "    </tr>\n",
       "    <tr>\n",
       "      <th>в разводе</th>\n",
       "      <th>нет детей</th>\n",
       "      <td>784</td>\n",
       "      <td>0.070153</td>\n",
       "      <td>55</td>\n",
       "    </tr>\n",
       "    <tr>\n",
       "      <th>женат / замужем</th>\n",
       "      <th>нет детей</th>\n",
       "      <td>7468</td>\n",
       "      <td>0.069095</td>\n",
       "      <td>516</td>\n",
       "    </tr>\n",
       "    <tr>\n",
       "      <th>в разводе</th>\n",
       "      <th>1 ребенок</th>\n",
       "      <td>312</td>\n",
       "      <td>0.067308</td>\n",
       "      <td>21</td>\n",
       "    </tr>\n",
       "    <tr>\n",
       "      <th>вдовец / вдова</th>\n",
       "      <th>нет детей</th>\n",
       "      <td>847</td>\n",
       "      <td>0.062574</td>\n",
       "      <td>53</td>\n",
       "    </tr>\n",
       "  </tbody>\n",
       "</table>\n",
       "</div>"
      ],
      "text/plain": [
       "                                         count      mean  sum\n",
       "family_status         category_children                      \n",
       "гражданский брак      1 ребенок            995  0.118593  118\n",
       "Не женат / не замужем 1 ребенок            449  0.115813   52\n",
       "женат / замужем       2 ребенка           1533  0.094586  145\n",
       "Не женат / не замужем нет детей           2262  0.092838  210\n",
       "гражданский брак      2 ребенка            343  0.087464   30\n",
       "                      нет детей           2730  0.083883  229\n",
       "женат / замужем       1 ребенок           2975  0.082689  246\n",
       "                      многодетные          285  0.070175   20\n",
       "в разводе             нет детей            784  0.070153   55\n",
       "женат / замужем       нет детей           7468  0.069095  516\n",
       "в разводе             1 ребенок            312  0.067308   21\n",
       "вдовец / вдова        нет детей            847  0.062574   53"
      ]
     },
     "execution_count": 89,
     "metadata": {},
     "output_type": "execute_result"
    }
   ],
   "source": [
    "# Поскольку некоторых наблюдений мало - я отфильтрую данные с количеством наблюдений < 100, чтобы не сильно\n",
    "# исказить результаты\n",
    "# отсортирую по убыванию mean\n",
    "\n",
    "t[t['count'] > 100].sort_values(by='mean', ascending=False)"
   ]
  },
  {
   "cell_type": "markdown",
   "id": "4d109042",
   "metadata": {},
   "source": [
    "**Отвечая на вопрос исследования \" влияет ли семейное положение и количество детей клиента на факт погашения кредита в срок.\" - да, влияет. Если рассмтаривать влияние двух этих переменных на на факт погашения в срок, то отмечу следующее:**\n",
    "\n",
    "* Самые Высокие шансы на НЕпогашение кредита имеют (неженатые и пары в гражанском браке) с 1 ребенком (примерно 11.6% невозврата)\n",
    "\n",
    "* Самые низкие шансы на НЕпогашение кредита имеют вдовец/вдова без детей (примерно 6.2% невозврата)"
   ]
  },
  {
   "cell_type": "markdown",
   "id": "2120e82f",
   "metadata": {},
   "source": [
    " <font color='blue'>**ДОПОЛНЕНИЕ**</font> "
   ]
  },
  {
   "cell_type": "code",
   "execution_count": 90,
   "id": "478cd865",
   "metadata": {},
   "outputs": [
    {
     "data": {
      "text/plain": [
       "array(['женат / замужем', 'гражданский брак', 'вдовец / вдова',\n",
       "       'в разводе', 'Не женат / не замужем'], dtype=object)"
      ]
     },
     "execution_count": 90,
     "metadata": {},
     "output_type": "execute_result"
    }
   ],
   "source": [
    "data['family_status'].unique()"
   ]
  },
  {
   "cell_type": "code",
   "execution_count": 91,
   "id": "2af271e1",
   "metadata": {},
   "outputs": [],
   "source": [
    "# Посмотрим подробнее на фичу семейное положение и изменю категоризацию на тех, кто был/есть в браке,\n",
    "# гражданский брак, и тех, кто не был в браке. \n",
    "\n",
    "def family_status_category(status):\n",
    "    try:\n",
    "        if status == 'женат / замужем' or status == 'вдовец / вдова' or status == 'в разводе':\n",
    "            return 'был в браке'\n",
    "        elif status == 'гражданский брак':\n",
    "            return 'гражданский брак'\n",
    "        \n",
    "        elif status == 'вдовец / вдова':\n",
    "            return 'вдовец / вдова'        \n",
    "        \n",
    "        elif status == 'Не женат / не замужем':\n",
    "            return 'НЕ был в браке'\n",
    "    except:\n",
    "        return 'нет категории'\n"
   ]
  },
  {
   "cell_type": "code",
   "execution_count": 92,
   "id": "721322af",
   "metadata": {},
   "outputs": [],
   "source": [
    "data['family_status_category'] = data['family_status'].apply(family_status_category)"
   ]
  },
  {
   "cell_type": "code",
   "execution_count": 93,
   "id": "e7e6f53f",
   "metadata": {},
   "outputs": [
    {
     "data": {
      "text/html": [
       "<div>\n",
       "<style scoped>\n",
       "    .dataframe tbody tr th:only-of-type {\n",
       "        vertical-align: middle;\n",
       "    }\n",
       "\n",
       "    .dataframe tbody tr th {\n",
       "        vertical-align: top;\n",
       "    }\n",
       "\n",
       "    .dataframe thead th {\n",
       "        text-align: right;\n",
       "    }\n",
       "</style>\n",
       "<table border=\"1\" class=\"dataframe\">\n",
       "  <thead>\n",
       "    <tr style=\"text-align: right;\">\n",
       "      <th></th>\n",
       "      <th></th>\n",
       "      <th>count</th>\n",
       "      <th>mean</th>\n",
       "      <th>sum</th>\n",
       "    </tr>\n",
       "    <tr>\n",
       "      <th>family_status_category</th>\n",
       "      <th>category_children_2</th>\n",
       "      <th></th>\n",
       "      <th></th>\n",
       "      <th></th>\n",
       "    </tr>\n",
       "  </thead>\n",
       "  <tbody>\n",
       "    <tr>\n",
       "      <th rowspan=\"3\" valign=\"top\">НЕ был в браке</th>\n",
       "      <th>1 ребенок</th>\n",
       "      <td>449</td>\n",
       "      <td>0.115813</td>\n",
       "      <td>52</td>\n",
       "    </tr>\n",
       "    <tr>\n",
       "      <th>многодетные</th>\n",
       "      <td>85</td>\n",
       "      <td>0.129412</td>\n",
       "      <td>11</td>\n",
       "    </tr>\n",
       "    <tr>\n",
       "      <th>нет детей</th>\n",
       "      <td>2262</td>\n",
       "      <td>0.092838</td>\n",
       "      <td>210</td>\n",
       "    </tr>\n",
       "    <tr>\n",
       "      <th rowspan=\"3\" valign=\"top\">был в браке</th>\n",
       "      <th>1 ребенок</th>\n",
       "      <td>3364</td>\n",
       "      <td>0.081451</td>\n",
       "      <td>274</td>\n",
       "    </tr>\n",
       "    <tr>\n",
       "      <th>многодетные</th>\n",
       "      <td>1938</td>\n",
       "      <td>0.090815</td>\n",
       "      <td>176</td>\n",
       "    </tr>\n",
       "    <tr>\n",
       "      <th>нет детей</th>\n",
       "      <td>9099</td>\n",
       "      <td>0.068579</td>\n",
       "      <td>624</td>\n",
       "    </tr>\n",
       "    <tr>\n",
       "      <th rowspan=\"3\" valign=\"top\">гражданский брак</th>\n",
       "      <th>1 ребенок</th>\n",
       "      <td>995</td>\n",
       "      <td>0.118593</td>\n",
       "      <td>118</td>\n",
       "    </tr>\n",
       "    <tr>\n",
       "      <th>многодетные</th>\n",
       "      <td>409</td>\n",
       "      <td>0.092910</td>\n",
       "      <td>38</td>\n",
       "    </tr>\n",
       "    <tr>\n",
       "      <th>нет детей</th>\n",
       "      <td>2730</td>\n",
       "      <td>0.083883</td>\n",
       "      <td>229</td>\n",
       "    </tr>\n",
       "  </tbody>\n",
       "</table>\n",
       "</div>"
      ],
      "text/plain": [
       "                                            count      mean  sum\n",
       "family_status_category category_children_2                      \n",
       "НЕ был в браке         1 ребенок              449  0.115813   52\n",
       "                       многодетные             85  0.129412   11\n",
       "                       нет детей             2262  0.092838  210\n",
       "был в браке            1 ребенок             3364  0.081451  274\n",
       "                       многодетные           1938  0.090815  176\n",
       "                       нет детей             9099  0.068579  624\n",
       "гражданский брак       1 ребенок              995  0.118593  118\n",
       "                       многодетные            409  0.092910   38\n",
       "                       нет детей             2730  0.083883  229"
      ]
     },
     "execution_count": 93,
     "metadata": {},
     "output_type": "execute_result"
    }
   ],
   "source": [
    "# Изучив влияние количества детей и семейного положения сгруппируем их вместе, чтобы посмотреть влияние обеих \n",
    "# переменных на debt.\n",
    "\n",
    "t = data.groupby(['family_status_category',\n",
    "                  'category_children_2'])['debt'].agg(['count', 'mean', 'sum'])\n",
    "t"
   ]
  },
  {
   "cell_type": "code",
   "execution_count": 94,
   "id": "729d69f2",
   "metadata": {},
   "outputs": [
    {
     "data": {
      "text/html": [
       "<div>\n",
       "<style scoped>\n",
       "    .dataframe tbody tr th:only-of-type {\n",
       "        vertical-align: middle;\n",
       "    }\n",
       "\n",
       "    .dataframe tbody tr th {\n",
       "        vertical-align: top;\n",
       "    }\n",
       "\n",
       "    .dataframe thead th {\n",
       "        text-align: right;\n",
       "    }\n",
       "</style>\n",
       "<table border=\"1\" class=\"dataframe\">\n",
       "  <thead>\n",
       "    <tr style=\"text-align: right;\">\n",
       "      <th></th>\n",
       "      <th></th>\n",
       "      <th>count</th>\n",
       "      <th>mean</th>\n",
       "      <th>sum</th>\n",
       "    </tr>\n",
       "    <tr>\n",
       "      <th>family_status_category</th>\n",
       "      <th>category_children_2</th>\n",
       "      <th></th>\n",
       "      <th></th>\n",
       "      <th></th>\n",
       "    </tr>\n",
       "  </thead>\n",
       "  <tbody>\n",
       "    <tr>\n",
       "      <th>гражданский брак</th>\n",
       "      <th>1 ребенок</th>\n",
       "      <td>995</td>\n",
       "      <td>0.118593</td>\n",
       "      <td>118</td>\n",
       "    </tr>\n",
       "    <tr>\n",
       "      <th>НЕ был в браке</th>\n",
       "      <th>1 ребенок</th>\n",
       "      <td>449</td>\n",
       "      <td>0.115813</td>\n",
       "      <td>52</td>\n",
       "    </tr>\n",
       "    <tr>\n",
       "      <th>гражданский брак</th>\n",
       "      <th>многодетные</th>\n",
       "      <td>409</td>\n",
       "      <td>0.092910</td>\n",
       "      <td>38</td>\n",
       "    </tr>\n",
       "    <tr>\n",
       "      <th>НЕ был в браке</th>\n",
       "      <th>нет детей</th>\n",
       "      <td>2262</td>\n",
       "      <td>0.092838</td>\n",
       "      <td>210</td>\n",
       "    </tr>\n",
       "    <tr>\n",
       "      <th>был в браке</th>\n",
       "      <th>многодетные</th>\n",
       "      <td>1938</td>\n",
       "      <td>0.090815</td>\n",
       "      <td>176</td>\n",
       "    </tr>\n",
       "    <tr>\n",
       "      <th>гражданский брак</th>\n",
       "      <th>нет детей</th>\n",
       "      <td>2730</td>\n",
       "      <td>0.083883</td>\n",
       "      <td>229</td>\n",
       "    </tr>\n",
       "    <tr>\n",
       "      <th rowspan=\"2\" valign=\"top\">был в браке</th>\n",
       "      <th>1 ребенок</th>\n",
       "      <td>3364</td>\n",
       "      <td>0.081451</td>\n",
       "      <td>274</td>\n",
       "    </tr>\n",
       "    <tr>\n",
       "      <th>нет детей</th>\n",
       "      <td>9099</td>\n",
       "      <td>0.068579</td>\n",
       "      <td>624</td>\n",
       "    </tr>\n",
       "  </tbody>\n",
       "</table>\n",
       "</div>"
      ],
      "text/plain": [
       "                                            count      mean  sum\n",
       "family_status_category category_children_2                      \n",
       "гражданский брак       1 ребенок              995  0.118593  118\n",
       "НЕ был в браке         1 ребенок              449  0.115813   52\n",
       "гражданский брак       многодетные            409  0.092910   38\n",
       "НЕ был в браке         нет детей             2262  0.092838  210\n",
       "был в браке            многодетные           1938  0.090815  176\n",
       "гражданский брак       нет детей             2730  0.083883  229\n",
       "был в браке            1 ребенок             3364  0.081451  274\n",
       "                       нет детей             9099  0.068579  624"
      ]
     },
     "execution_count": 94,
     "metadata": {},
     "output_type": "execute_result"
    }
   ],
   "source": [
    "# Поскольку некоторых наблюдений мало - я отфильтрую данные с количеством наблюдений > 100, чтобы не сильно\n",
    "# исказить результаты\n",
    "# отсортирую по убыванию mean\n",
    "\n",
    "t[t['count'] > 100].sort_values(by='mean', ascending=False)"
   ]
  },
  {
   "cell_type": "markdown",
   "id": "70645fe7",
   "metadata": {},
   "source": [
    "**Вывод: Теперь хорошо наблюдается следующая зависимость:**\n",
    "* Люди, которые были в браке и у них нет детей - имеют НАИБОЛЬШИЕ шансы на возврат кредита.\n",
    "* Люди в гражданском браке с ребенком имеют НАИМЕНЬШИЕ шансы на возврат\n"
   ]
  },
  {
   "cell_type": "markdown",
   "id": "7e881b26",
   "metadata": {
    "deletable": false,
    "editable": false,
    "id": "1e8b2fca"
   },
   "source": [
    "#### 3.3 Есть ли зависимость между уровнем дохода и возвратом кредита в срок?"
   ]
  },
  {
   "cell_type": "code",
   "execution_count": 95,
   "id": "71a82675",
   "metadata": {
    "deletable": false,
    "id": "cd7e3720"
   },
   "outputs": [],
   "source": [
    "# Ваш код будет здесь. Вы можете создавать новые ячейки."
   ]
  },
  {
   "cell_type": "markdown",
   "id": "6306f576",
   "metadata": {},
   "source": [
    "**Для ответа на этот вопрос сагрегируем данные. Поскольку feature debt является бинарной, то среднее по этому столбцу, в зависимости от категории покажет нам долю невозврата. Итак, сгруппируем данные по уровню дохода, ранее мы категоризовали уровень дохода, результат находится в столбце total_income_category, где**\n",
    "- 0–30000 — `'E'`;\n",
    "- 30001–50000 — `'D'`;\n",
    "- 50001–200000 — `'C'`;\n",
    "- 200001–1000000 — `'B'`;\n",
    "- 1000001 и выше — `'A'`.\n"
   ]
  },
  {
   "cell_type": "code",
   "execution_count": 96,
   "id": "00551d6e",
   "metadata": {},
   "outputs": [
    {
     "data": {
      "text/html": [
       "<div>\n",
       "<style scoped>\n",
       "    .dataframe tbody tr th:only-of-type {\n",
       "        vertical-align: middle;\n",
       "    }\n",
       "\n",
       "    .dataframe tbody tr th {\n",
       "        vertical-align: top;\n",
       "    }\n",
       "\n",
       "    .dataframe thead th {\n",
       "        text-align: right;\n",
       "    }\n",
       "</style>\n",
       "<table border=\"1\" class=\"dataframe\">\n",
       "  <thead>\n",
       "    <tr style=\"text-align: right;\">\n",
       "      <th></th>\n",
       "      <th>count</th>\n",
       "      <th>mean</th>\n",
       "      <th>sum</th>\n",
       "    </tr>\n",
       "    <tr>\n",
       "      <th>total_income_category</th>\n",
       "      <th></th>\n",
       "      <th></th>\n",
       "      <th></th>\n",
       "    </tr>\n",
       "  </thead>\n",
       "  <tbody>\n",
       "    <tr>\n",
       "      <th>A</th>\n",
       "      <td>25</td>\n",
       "      <td>0.080000</td>\n",
       "      <td>2</td>\n",
       "    </tr>\n",
       "    <tr>\n",
       "      <th>B</th>\n",
       "      <td>5014</td>\n",
       "      <td>0.070602</td>\n",
       "      <td>354</td>\n",
       "    </tr>\n",
       "    <tr>\n",
       "      <th>C</th>\n",
       "      <td>15921</td>\n",
       "      <td>0.084982</td>\n",
       "      <td>1353</td>\n",
       "    </tr>\n",
       "    <tr>\n",
       "      <th>D</th>\n",
       "      <td>349</td>\n",
       "      <td>0.060172</td>\n",
       "      <td>21</td>\n",
       "    </tr>\n",
       "    <tr>\n",
       "      <th>E</th>\n",
       "      <td>22</td>\n",
       "      <td>0.090909</td>\n",
       "      <td>2</td>\n",
       "    </tr>\n",
       "  </tbody>\n",
       "</table>\n",
       "</div>"
      ],
      "text/plain": [
       "                       count      mean   sum\n",
       "total_income_category                       \n",
       "A                         25  0.080000     2\n",
       "B                       5014  0.070602   354\n",
       "C                      15921  0.084982  1353\n",
       "D                        349  0.060172    21\n",
       "E                         22  0.090909     2"
      ]
     },
     "execution_count": 96,
     "metadata": {},
     "output_type": "execute_result"
    }
   ],
   "source": [
    "# применим три функции агрегации\n",
    "\n",
    "data.groupby('total_income_category')['debt'].agg(['count', 'mean', 'sum'])"
   ]
  },
  {
   "cell_type": "markdown",
   "id": "7ae1a1f5",
   "metadata": {},
   "source": [
    "**Из таблицы я вижу 5 категорий. И наблюдается следующее:**\n",
    "\n",
    "- 0–30000 — `'E'` - 9% невозврата\n",
    "- 30001–50000 — `'D'` - 6% невозврата\n",
    "- 50001–200000 — `'C'` - 8.4% невозврата\n",
    "- 200001–1000000 — `'B'`- 7% невозврата\n",
    "- 1000001 и выше — `'A'` - 8% невозврата\n",
    "\n"
   ]
  },
  {
   "cell_type": "markdown",
   "id": "8ba4d805",
   "metadata": {},
   "source": [
    "**В целом, мы видим динамику:**\n",
    "\n",
    "* Наименьший невозврат наблюдается у категории с доходом 30001–50000, наблюдается 6% невозврата\n",
    "* Наибольший невозврат наблюдается у категории с наименьшим доходом 0–30000, наблюдается 9% невозврата"
   ]
  },
  {
   "cell_type": "markdown",
   "id": "6b5b728d",
   "metadata": {
    "deletable": false,
    "id": "e8593def"
   },
   "source": [
    "**Вывод: зависимость между уровнем дохода и возвратом кредита в срок есть. Люди с меньшим доходом имеют меньше шансов на возврат кредита, люди (скорее всего среднего класса ) с доходом 30001–50000 имеют бОльшие шансы на возврат кредита. Выводы справедливы, если учитывать, что количество наблюдений для категорий A и E достаточно.** "
   ]
  },
  {
   "cell_type": "markdown",
   "id": "77444357",
   "metadata": {},
   "source": [
    " <font color='blue'>**ДОПОЛНЕНИЕ**</font> "
   ]
  },
  {
   "cell_type": "code",
   "execution_count": 97,
   "id": "17e39b12",
   "metadata": {},
   "outputs": [],
   "source": [
    "# Согласен, Анзор! Попробую изменить категоризацию, чтобы включить малые группы в бОльшие:\n",
    "\n",
    "def category_total_2(total):\n",
    "    try:\n",
    "        if total <= 200000:\n",
    "            return '<=200000'\n",
    "\n",
    "        elif total >= 200001 :\n",
    "            return '>=200001'\n",
    "\n",
    "    except:\n",
    "            pass"
   ]
  },
  {
   "cell_type": "code",
   "execution_count": 98,
   "id": "4fe068b0",
   "metadata": {},
   "outputs": [],
   "source": [
    "data['category_total_2'] = data['total_income'].apply(category_total_2)"
   ]
  },
  {
   "cell_type": "code",
   "execution_count": 99,
   "id": "3a75689e",
   "metadata": {},
   "outputs": [
    {
     "data": {
      "text/html": [
       "<div>\n",
       "<style scoped>\n",
       "    .dataframe tbody tr th:only-of-type {\n",
       "        vertical-align: middle;\n",
       "    }\n",
       "\n",
       "    .dataframe tbody tr th {\n",
       "        vertical-align: top;\n",
       "    }\n",
       "\n",
       "    .dataframe thead th {\n",
       "        text-align: right;\n",
       "    }\n",
       "</style>\n",
       "<table border=\"1\" class=\"dataframe\">\n",
       "  <thead>\n",
       "    <tr style=\"text-align: right;\">\n",
       "      <th></th>\n",
       "      <th>count</th>\n",
       "      <th>mean</th>\n",
       "      <th>sum</th>\n",
       "    </tr>\n",
       "    <tr>\n",
       "      <th>category_total_2</th>\n",
       "      <th></th>\n",
       "      <th></th>\n",
       "      <th></th>\n",
       "    </tr>\n",
       "  </thead>\n",
       "  <tbody>\n",
       "    <tr>\n",
       "      <th>&lt;=200000</th>\n",
       "      <td>16292</td>\n",
       "      <td>0.084459</td>\n",
       "      <td>1376</td>\n",
       "    </tr>\n",
       "    <tr>\n",
       "      <th>&gt;=200001</th>\n",
       "      <td>5039</td>\n",
       "      <td>0.070649</td>\n",
       "      <td>356</td>\n",
       "    </tr>\n",
       "  </tbody>\n",
       "</table>\n",
       "</div>"
      ],
      "text/plain": [
       "                  count      mean   sum\n",
       "category_total_2                       \n",
       "<=200000          16292  0.084459  1376\n",
       ">=200001           5039  0.070649   356"
      ]
     },
     "execution_count": 99,
     "metadata": {},
     "output_type": "execute_result"
    }
   ],
   "source": [
    "# построим теперь новую сводную таблицу \n",
    "\n",
    "\n",
    "data.groupby('category_total_2')['debt'].agg(['count', 'mean', 'sum'])"
   ]
  },
  {
   "cell_type": "markdown",
   "id": "7b202b19",
   "metadata": {},
   "source": [
    "**Объединив малые группы теперь явно прослеживается следующее:**\n",
    "* Шанс невозврата у людей с доходом меньше 200000 увеличивается.\n",
    "* Шанс невозврата у людей с доходом больше 200001 уменьшается."
   ]
  },
  {
   "cell_type": "markdown",
   "id": "fd5b9665",
   "metadata": {
    "deletable": false,
    "editable": false,
    "id": "99ecbd1f"
   },
   "source": [
    "#### 3.4 Как разные цели кредита влияют на его возврат в срок?"
   ]
  },
  {
   "cell_type": "code",
   "execution_count": 100,
   "id": "88befd6b",
   "metadata": {
    "deletable": false,
    "id": "2b687290"
   },
   "outputs": [],
   "source": [
    "# Ваш код будет здесь. Вы можете создавать новые ячейки."
   ]
  },
  {
   "cell_type": "code",
   "execution_count": 101,
   "id": "18cb78e6",
   "metadata": {},
   "outputs": [
    {
     "data": {
      "text/html": [
       "<div>\n",
       "<style scoped>\n",
       "    .dataframe tbody tr th:only-of-type {\n",
       "        vertical-align: middle;\n",
       "    }\n",
       "\n",
       "    .dataframe tbody tr th {\n",
       "        vertical-align: top;\n",
       "    }\n",
       "\n",
       "    .dataframe thead th {\n",
       "        text-align: right;\n",
       "    }\n",
       "</style>\n",
       "<table border=\"1\" class=\"dataframe\">\n",
       "  <thead>\n",
       "    <tr style=\"text-align: right;\">\n",
       "      <th></th>\n",
       "      <th>children</th>\n",
       "      <th>days_employed</th>\n",
       "      <th>dob_years</th>\n",
       "      <th>education</th>\n",
       "      <th>education_id</th>\n",
       "      <th>family_status</th>\n",
       "      <th>family_status_id</th>\n",
       "      <th>gender</th>\n",
       "      <th>income_type</th>\n",
       "      <th>debt</th>\n",
       "      <th>total_income</th>\n",
       "      <th>purpose</th>\n",
       "      <th>total_income_category</th>\n",
       "      <th>purpose_category</th>\n",
       "      <th>category_children</th>\n",
       "      <th>category_children_2</th>\n",
       "      <th>family_status_category</th>\n",
       "      <th>category_total_2</th>\n",
       "    </tr>\n",
       "  </thead>\n",
       "  <tbody>\n",
       "    <tr>\n",
       "      <th>0</th>\n",
       "      <td>1</td>\n",
       "      <td>8437.673028</td>\n",
       "      <td>42</td>\n",
       "      <td>высшее</td>\n",
       "      <td>0</td>\n",
       "      <td>женат / замужем</td>\n",
       "      <td>0</td>\n",
       "      <td>F</td>\n",
       "      <td>сотрудник</td>\n",
       "      <td>0</td>\n",
       "      <td>253875</td>\n",
       "      <td>покупка жилья</td>\n",
       "      <td>B</td>\n",
       "      <td>операции с недвижимостью</td>\n",
       "      <td>1 ребенок</td>\n",
       "      <td>1 ребенок</td>\n",
       "      <td>был в браке</td>\n",
       "      <td>&gt;=200001</td>\n",
       "    </tr>\n",
       "    <tr>\n",
       "      <th>1</th>\n",
       "      <td>1</td>\n",
       "      <td>4024.803754</td>\n",
       "      <td>36</td>\n",
       "      <td>среднее</td>\n",
       "      <td>1</td>\n",
       "      <td>женат / замужем</td>\n",
       "      <td>0</td>\n",
       "      <td>F</td>\n",
       "      <td>сотрудник</td>\n",
       "      <td>0</td>\n",
       "      <td>112080</td>\n",
       "      <td>приобретение автомобиля</td>\n",
       "      <td>C</td>\n",
       "      <td>операции с автомобилем</td>\n",
       "      <td>1 ребенок</td>\n",
       "      <td>1 ребенок</td>\n",
       "      <td>был в браке</td>\n",
       "      <td>&lt;=200000</td>\n",
       "    </tr>\n",
       "    <tr>\n",
       "      <th>2</th>\n",
       "      <td>0</td>\n",
       "      <td>5623.422610</td>\n",
       "      <td>33</td>\n",
       "      <td>среднее</td>\n",
       "      <td>1</td>\n",
       "      <td>женат / замужем</td>\n",
       "      <td>0</td>\n",
       "      <td>M</td>\n",
       "      <td>сотрудник</td>\n",
       "      <td>0</td>\n",
       "      <td>145885</td>\n",
       "      <td>покупка жилья</td>\n",
       "      <td>C</td>\n",
       "      <td>операции с недвижимостью</td>\n",
       "      <td>нет детей</td>\n",
       "      <td>нет детей</td>\n",
       "      <td>был в браке</td>\n",
       "      <td>&lt;=200000</td>\n",
       "    </tr>\n",
       "    <tr>\n",
       "      <th>3</th>\n",
       "      <td>3</td>\n",
       "      <td>4124.747207</td>\n",
       "      <td>32</td>\n",
       "      <td>среднее</td>\n",
       "      <td>1</td>\n",
       "      <td>женат / замужем</td>\n",
       "      <td>0</td>\n",
       "      <td>M</td>\n",
       "      <td>сотрудник</td>\n",
       "      <td>0</td>\n",
       "      <td>267628</td>\n",
       "      <td>дополнительное образование</td>\n",
       "      <td>B</td>\n",
       "      <td>получение образования</td>\n",
       "      <td>многодетные</td>\n",
       "      <td>многодетные</td>\n",
       "      <td>был в браке</td>\n",
       "      <td>&gt;=200001</td>\n",
       "    </tr>\n",
       "    <tr>\n",
       "      <th>4</th>\n",
       "      <td>0</td>\n",
       "      <td>340266.072047</td>\n",
       "      <td>53</td>\n",
       "      <td>среднее</td>\n",
       "      <td>1</td>\n",
       "      <td>гражданский брак</td>\n",
       "      <td>1</td>\n",
       "      <td>F</td>\n",
       "      <td>пенсионер</td>\n",
       "      <td>0</td>\n",
       "      <td>158616</td>\n",
       "      <td>сыграть свадьбу</td>\n",
       "      <td>C</td>\n",
       "      <td>проведение свадьбы</td>\n",
       "      <td>нет детей</td>\n",
       "      <td>нет детей</td>\n",
       "      <td>гражданский брак</td>\n",
       "      <td>&lt;=200000</td>\n",
       "    </tr>\n",
       "    <tr>\n",
       "      <th>5</th>\n",
       "      <td>0</td>\n",
       "      <td>926.185831</td>\n",
       "      <td>27</td>\n",
       "      <td>высшее</td>\n",
       "      <td>0</td>\n",
       "      <td>гражданский брак</td>\n",
       "      <td>1</td>\n",
       "      <td>M</td>\n",
       "      <td>компаньон</td>\n",
       "      <td>0</td>\n",
       "      <td>255763</td>\n",
       "      <td>покупка жилья</td>\n",
       "      <td>B</td>\n",
       "      <td>операции с недвижимостью</td>\n",
       "      <td>нет детей</td>\n",
       "      <td>нет детей</td>\n",
       "      <td>гражданский брак</td>\n",
       "      <td>&gt;=200001</td>\n",
       "    </tr>\n",
       "    <tr>\n",
       "      <th>6</th>\n",
       "      <td>0</td>\n",
       "      <td>2879.202052</td>\n",
       "      <td>43</td>\n",
       "      <td>высшее</td>\n",
       "      <td>0</td>\n",
       "      <td>женат / замужем</td>\n",
       "      <td>0</td>\n",
       "      <td>F</td>\n",
       "      <td>компаньон</td>\n",
       "      <td>0</td>\n",
       "      <td>240525</td>\n",
       "      <td>операции с жильем</td>\n",
       "      <td>B</td>\n",
       "      <td>операции с недвижимостью</td>\n",
       "      <td>нет детей</td>\n",
       "      <td>нет детей</td>\n",
       "      <td>был в браке</td>\n",
       "      <td>&gt;=200001</td>\n",
       "    </tr>\n",
       "    <tr>\n",
       "      <th>7</th>\n",
       "      <td>0</td>\n",
       "      <td>152.779569</td>\n",
       "      <td>50</td>\n",
       "      <td>среднее</td>\n",
       "      <td>1</td>\n",
       "      <td>женат / замужем</td>\n",
       "      <td>0</td>\n",
       "      <td>M</td>\n",
       "      <td>сотрудник</td>\n",
       "      <td>0</td>\n",
       "      <td>135823</td>\n",
       "      <td>образование</td>\n",
       "      <td>C</td>\n",
       "      <td>получение образования</td>\n",
       "      <td>нет детей</td>\n",
       "      <td>нет детей</td>\n",
       "      <td>был в браке</td>\n",
       "      <td>&lt;=200000</td>\n",
       "    </tr>\n",
       "    <tr>\n",
       "      <th>8</th>\n",
       "      <td>2</td>\n",
       "      <td>6929.865299</td>\n",
       "      <td>35</td>\n",
       "      <td>высшее</td>\n",
       "      <td>0</td>\n",
       "      <td>гражданский брак</td>\n",
       "      <td>1</td>\n",
       "      <td>F</td>\n",
       "      <td>сотрудник</td>\n",
       "      <td>0</td>\n",
       "      <td>95856</td>\n",
       "      <td>на проведение свадьбы</td>\n",
       "      <td>C</td>\n",
       "      <td>проведение свадьбы</td>\n",
       "      <td>2 ребенка</td>\n",
       "      <td>многодетные</td>\n",
       "      <td>гражданский брак</td>\n",
       "      <td>&lt;=200000</td>\n",
       "    </tr>\n",
       "    <tr>\n",
       "      <th>9</th>\n",
       "      <td>0</td>\n",
       "      <td>2188.756445</td>\n",
       "      <td>41</td>\n",
       "      <td>среднее</td>\n",
       "      <td>1</td>\n",
       "      <td>женат / замужем</td>\n",
       "      <td>0</td>\n",
       "      <td>M</td>\n",
       "      <td>сотрудник</td>\n",
       "      <td>0</td>\n",
       "      <td>144425</td>\n",
       "      <td>покупка жилья для семьи</td>\n",
       "      <td>C</td>\n",
       "      <td>операции с недвижимостью</td>\n",
       "      <td>нет детей</td>\n",
       "      <td>нет детей</td>\n",
       "      <td>был в браке</td>\n",
       "      <td>&lt;=200000</td>\n",
       "    </tr>\n",
       "  </tbody>\n",
       "</table>\n",
       "</div>"
      ],
      "text/plain": [
       "   children  days_employed  dob_years education  education_id  \\\n",
       "0         1    8437.673028         42    высшее             0   \n",
       "1         1    4024.803754         36   среднее             1   \n",
       "2         0    5623.422610         33   среднее             1   \n",
       "3         3    4124.747207         32   среднее             1   \n",
       "4         0  340266.072047         53   среднее             1   \n",
       "5         0     926.185831         27    высшее             0   \n",
       "6         0    2879.202052         43    высшее             0   \n",
       "7         0     152.779569         50   среднее             1   \n",
       "8         2    6929.865299         35    высшее             0   \n",
       "9         0    2188.756445         41   среднее             1   \n",
       "\n",
       "      family_status  family_status_id gender income_type  debt  total_income  \\\n",
       "0   женат / замужем                 0      F   сотрудник     0        253875   \n",
       "1   женат / замужем                 0      F   сотрудник     0        112080   \n",
       "2   женат / замужем                 0      M   сотрудник     0        145885   \n",
       "3   женат / замужем                 0      M   сотрудник     0        267628   \n",
       "4  гражданский брак                 1      F   пенсионер     0        158616   \n",
       "5  гражданский брак                 1      M   компаньон     0        255763   \n",
       "6   женат / замужем                 0      F   компаньон     0        240525   \n",
       "7   женат / замужем                 0      M   сотрудник     0        135823   \n",
       "8  гражданский брак                 1      F   сотрудник     0         95856   \n",
       "9   женат / замужем                 0      M   сотрудник     0        144425   \n",
       "\n",
       "                      purpose total_income_category          purpose_category  \\\n",
       "0               покупка жилья                     B  операции с недвижимостью   \n",
       "1     приобретение автомобиля                     C    операции с автомобилем   \n",
       "2               покупка жилья                     C  операции с недвижимостью   \n",
       "3  дополнительное образование                     B     получение образования   \n",
       "4             сыграть свадьбу                     C        проведение свадьбы   \n",
       "5               покупка жилья                     B  операции с недвижимостью   \n",
       "6           операции с жильем                     B  операции с недвижимостью   \n",
       "7                 образование                     C     получение образования   \n",
       "8       на проведение свадьбы                     C        проведение свадьбы   \n",
       "9     покупка жилья для семьи                     C  операции с недвижимостью   \n",
       "\n",
       "  category_children category_children_2 family_status_category  \\\n",
       "0         1 ребенок           1 ребенок            был в браке   \n",
       "1         1 ребенок           1 ребенок            был в браке   \n",
       "2         нет детей           нет детей            был в браке   \n",
       "3       многодетные         многодетные            был в браке   \n",
       "4         нет детей           нет детей       гражданский брак   \n",
       "5         нет детей           нет детей       гражданский брак   \n",
       "6         нет детей           нет детей            был в браке   \n",
       "7         нет детей           нет детей            был в браке   \n",
       "8         2 ребенка         многодетные       гражданский брак   \n",
       "9         нет детей           нет детей            был в браке   \n",
       "\n",
       "  category_total_2  \n",
       "0         >=200001  \n",
       "1         <=200000  \n",
       "2         <=200000  \n",
       "3         >=200001  \n",
       "4         <=200000  \n",
       "5         >=200001  \n",
       "6         >=200001  \n",
       "7         <=200000  \n",
       "8         <=200000  \n",
       "9         <=200000  "
      ]
     },
     "execution_count": 101,
     "metadata": {},
     "output_type": "execute_result"
    }
   ],
   "source": [
    "data.head(10)"
   ]
  },
  {
   "cell_type": "code",
   "execution_count": null,
   "id": "01b6cbda",
   "metadata": {},
   "outputs": [],
   "source": []
  },
  {
   "cell_type": "markdown",
   "id": "724dac82",
   "metadata": {},
   "source": [
    "**Для ответа на этот вопрос сагрегируем данные. Поскольку feature debt является бинарной, то среднее по этому столбцу, в зависимости от категории покажет нам долю невозврата. Итак, сгруппируем данные по цели кредита, ранее мы категоризовали их, результат находится в столбце purpose_category.**\n"
   ]
  },
  {
   "cell_type": "code",
   "execution_count": 102,
   "id": "f467d8d7",
   "metadata": {},
   "outputs": [
    {
     "data": {
      "text/html": [
       "<div>\n",
       "<style scoped>\n",
       "    .dataframe tbody tr th:only-of-type {\n",
       "        vertical-align: middle;\n",
       "    }\n",
       "\n",
       "    .dataframe tbody tr th {\n",
       "        vertical-align: top;\n",
       "    }\n",
       "\n",
       "    .dataframe thead th {\n",
       "        text-align: right;\n",
       "    }\n",
       "</style>\n",
       "<table border=\"1\" class=\"dataframe\">\n",
       "  <thead>\n",
       "    <tr style=\"text-align: right;\">\n",
       "      <th></th>\n",
       "      <th>count</th>\n",
       "      <th>mean</th>\n",
       "      <th>sum</th>\n",
       "    </tr>\n",
       "    <tr>\n",
       "      <th>purpose_category</th>\n",
       "      <th></th>\n",
       "      <th></th>\n",
       "      <th></th>\n",
       "    </tr>\n",
       "  </thead>\n",
       "  <tbody>\n",
       "    <tr>\n",
       "      <th>операции с автомобилем</th>\n",
       "      <td>4279</td>\n",
       "      <td>0.093480</td>\n",
       "      <td>400</td>\n",
       "    </tr>\n",
       "    <tr>\n",
       "      <th>операции с недвижимостью</th>\n",
       "      <td>10751</td>\n",
       "      <td>0.072551</td>\n",
       "      <td>780</td>\n",
       "    </tr>\n",
       "    <tr>\n",
       "      <th>получение образования</th>\n",
       "      <td>3988</td>\n",
       "      <td>0.092528</td>\n",
       "      <td>369</td>\n",
       "    </tr>\n",
       "    <tr>\n",
       "      <th>проведение свадьбы</th>\n",
       "      <td>2313</td>\n",
       "      <td>0.079118</td>\n",
       "      <td>183</td>\n",
       "    </tr>\n",
       "  </tbody>\n",
       "</table>\n",
       "</div>"
      ],
      "text/plain": [
       "                          count      mean  sum\n",
       "purpose_category                              \n",
       "операции с автомобилем     4279  0.093480  400\n",
       "операции с недвижимостью  10751  0.072551  780\n",
       "получение образования      3988  0.092528  369\n",
       "проведение свадьбы         2313  0.079118  183"
      ]
     },
     "execution_count": 102,
     "metadata": {},
     "output_type": "execute_result"
    }
   ],
   "source": [
    "# применим три функции агрегации\n",
    "\n",
    "data.groupby('purpose_category')['debt'].agg(['count', 'mean', 'sum'])"
   ]
  },
  {
   "cell_type": "markdown",
   "id": "20aaf91e",
   "metadata": {},
   "source": [
    "**Из таблицы я вижу 4 категории. И наблюдается следующее:**\n",
    "\n",
    "- операции с автомобилем - 9.34% невозврата\n",
    "- операции с недвижимостью - 7.25% невозврата\n",
    "- получение образования\t - 9.25% невозврата\n",
    "- проведение свадьбы - 7.9% невозврата\n",
    "\n",
    "\n"
   ]
  },
  {
   "cell_type": "markdown",
   "id": "a08eac33",
   "metadata": {},
   "source": [
    "**В целом, мы видим динамику:**\n",
    "\n",
    "* Наименьший невозврат наблюдается у категории с операциями на недвижимость, наблюдается 7.25% невозврата.\n",
    "* Наибольший невозврат наблюдается у категории с операциями по покупке автомобиля, наблюдается 9.34% невозврата"
   ]
  },
  {
   "cell_type": "code",
   "execution_count": null,
   "id": "6f77a617",
   "metadata": {},
   "outputs": [],
   "source": []
  },
  {
   "cell_type": "markdown",
   "id": "7bc29d53",
   "metadata": {
    "deletable": false,
    "id": "b4bb2ce6"
   },
   "source": [
    "**Вывод:  разные цели кредита влияют на его возврат в срок следующим образом:**\n",
    "* Если цель кредита - недвижимость, то шанс невозврата самый маленький (7.25%) в сравнении категорий.\n",
    "* На втором месте по минимальной доле невозврата - цели на проведение свадьбы(7.9%). \n",
    "\n",
    "**То есть две эти категории имеют больше шансов на возврат кредита, чем следующие.**\n",
    "\n",
    "* Если цель кредита образование, то шанс невозврата выше, чем у прошлых категорий (9.25%)\n",
    "* Наибольший невозврат наблюдается у категории с операциями по покупке автомобиля, наблюдается 9.34% невозврата\n"
   ]
  },
  {
   "cell_type": "markdown",
   "id": "77a60856",
   "metadata": {},
   "source": [
    " <font color='blue'>**ДОПОЛНЕНИЕ**</font> "
   ]
  },
  {
   "cell_type": "code",
   "execution_count": 103,
   "id": "20cae220",
   "metadata": {},
   "outputs": [
    {
     "data": {
      "text/html": [
       "<div>\n",
       "<style scoped>\n",
       "    .dataframe tbody tr th:only-of-type {\n",
       "        vertical-align: middle;\n",
       "    }\n",
       "\n",
       "    .dataframe tbody tr th {\n",
       "        vertical-align: top;\n",
       "    }\n",
       "\n",
       "    .dataframe thead th {\n",
       "        text-align: right;\n",
       "    }\n",
       "</style>\n",
       "<table border=\"1\" class=\"dataframe\">\n",
       "  <thead>\n",
       "    <tr style=\"text-align: right;\">\n",
       "      <th></th>\n",
       "      <th></th>\n",
       "      <th>count</th>\n",
       "      <th>mean</th>\n",
       "      <th>sum</th>\n",
       "    </tr>\n",
       "    <tr>\n",
       "      <th>category_total_2</th>\n",
       "      <th>purpose_category</th>\n",
       "      <th></th>\n",
       "      <th></th>\n",
       "      <th></th>\n",
       "    </tr>\n",
       "  </thead>\n",
       "  <tbody>\n",
       "    <tr>\n",
       "      <th rowspan=\"4\" valign=\"top\">&lt;=200000</th>\n",
       "      <th>операции с автомобилем</th>\n",
       "      <td>3255</td>\n",
       "      <td>0.096774</td>\n",
       "      <td>315</td>\n",
       "    </tr>\n",
       "    <tr>\n",
       "      <th>операции с недвижимостью</th>\n",
       "      <td>8176</td>\n",
       "      <td>0.074242</td>\n",
       "      <td>607</td>\n",
       "    </tr>\n",
       "    <tr>\n",
       "      <th>получение образования</th>\n",
       "      <td>3094</td>\n",
       "      <td>0.096639</td>\n",
       "      <td>299</td>\n",
       "    </tr>\n",
       "    <tr>\n",
       "      <th>проведение свадьбы</th>\n",
       "      <td>1767</td>\n",
       "      <td>0.087719</td>\n",
       "      <td>155</td>\n",
       "    </tr>\n",
       "    <tr>\n",
       "      <th rowspan=\"4\" valign=\"top\">&gt;=200001</th>\n",
       "      <th>операции с автомобилем</th>\n",
       "      <td>1024</td>\n",
       "      <td>0.083008</td>\n",
       "      <td>85</td>\n",
       "    </tr>\n",
       "    <tr>\n",
       "      <th>операции с недвижимостью</th>\n",
       "      <td>2575</td>\n",
       "      <td>0.067184</td>\n",
       "      <td>173</td>\n",
       "    </tr>\n",
       "    <tr>\n",
       "      <th>получение образования</th>\n",
       "      <td>894</td>\n",
       "      <td>0.078300</td>\n",
       "      <td>70</td>\n",
       "    </tr>\n",
       "    <tr>\n",
       "      <th>проведение свадьбы</th>\n",
       "      <td>546</td>\n",
       "      <td>0.051282</td>\n",
       "      <td>28</td>\n",
       "    </tr>\n",
       "  </tbody>\n",
       "</table>\n",
       "</div>"
      ],
      "text/plain": [
       "                                           count      mean  sum\n",
       "category_total_2 purpose_category                              \n",
       "<=200000         операции с автомобилем     3255  0.096774  315\n",
       "                 операции с недвижимостью   8176  0.074242  607\n",
       "                 получение образования      3094  0.096639  299\n",
       "                 проведение свадьбы         1767  0.087719  155\n",
       ">=200001         операции с автомобилем     1024  0.083008   85\n",
       "                 операции с недвижимостью   2575  0.067184  173\n",
       "                 получение образования       894  0.078300   70\n",
       "                 проведение свадьбы          546  0.051282   28"
      ]
     },
     "execution_count": 103,
     "metadata": {},
     "output_type": "execute_result"
    }
   ],
   "source": [
    "# попробуем сгруппировать людей по уровню дохода и их цели кредита\n",
    "\n",
    "data.groupby(['category_total_2' , 'purpose_category'])['debt'].agg(['count', 'mean', 'sum'])"
   ]
  },
  {
   "cell_type": "markdown",
   "id": "4e46db57",
   "metadata": {},
   "source": [
    "**Что я здесь вижу:**\n",
    "* Люди с высоким уровнем дохода имеют бОльший шанс на возврат кредита.\n",
    "* Люди с меньшим уровнем дохода чаще всего берут кредит на машину и недвижимость и имеют меньший шанс на возврат кредита.\n",
    "* Больший шанс невозврата у людей с меньшим уровнем дохода на категории (машина и образование)"
   ]
  },
  {
   "cell_type": "code",
   "execution_count": 104,
   "id": "a447641f",
   "metadata": {},
   "outputs": [
    {
     "data": {
      "text/html": [
       "<div>\n",
       "<style scoped>\n",
       "    .dataframe tbody tr th:only-of-type {\n",
       "        vertical-align: middle;\n",
       "    }\n",
       "\n",
       "    .dataframe tbody tr th {\n",
       "        vertical-align: top;\n",
       "    }\n",
       "\n",
       "    .dataframe thead th {\n",
       "        text-align: right;\n",
       "    }\n",
       "</style>\n",
       "<table border=\"1\" class=\"dataframe\">\n",
       "  <thead>\n",
       "    <tr style=\"text-align: right;\">\n",
       "      <th></th>\n",
       "      <th></th>\n",
       "      <th>count</th>\n",
       "      <th>mean</th>\n",
       "      <th>sum</th>\n",
       "    </tr>\n",
       "    <tr>\n",
       "      <th>category_total_2</th>\n",
       "      <th>category_children_2</th>\n",
       "      <th></th>\n",
       "      <th></th>\n",
       "      <th></th>\n",
       "    </tr>\n",
       "  </thead>\n",
       "  <tbody>\n",
       "    <tr>\n",
       "      <th rowspan=\"3\" valign=\"top\">&lt;=200000</th>\n",
       "      <th>1 ребенок</th>\n",
       "      <td>3632</td>\n",
       "      <td>0.097742</td>\n",
       "      <td>355</td>\n",
       "    </tr>\n",
       "    <tr>\n",
       "      <th>многодетные</th>\n",
       "      <td>1827</td>\n",
       "      <td>0.097975</td>\n",
       "      <td>179</td>\n",
       "    </tr>\n",
       "    <tr>\n",
       "      <th>нет детей</th>\n",
       "      <td>10833</td>\n",
       "      <td>0.077725</td>\n",
       "      <td>842</td>\n",
       "    </tr>\n",
       "    <tr>\n",
       "      <th rowspan=\"3\" valign=\"top\">&gt;=200001</th>\n",
       "      <th>1 ребенок</th>\n",
       "      <td>1176</td>\n",
       "      <td>0.075680</td>\n",
       "      <td>89</td>\n",
       "    </tr>\n",
       "    <tr>\n",
       "      <th>многодетные</th>\n",
       "      <td>605</td>\n",
       "      <td>0.076033</td>\n",
       "      <td>46</td>\n",
       "    </tr>\n",
       "    <tr>\n",
       "      <th>нет детей</th>\n",
       "      <td>3258</td>\n",
       "      <td>0.067833</td>\n",
       "      <td>221</td>\n",
       "    </tr>\n",
       "  </tbody>\n",
       "</table>\n",
       "</div>"
      ],
      "text/plain": [
       "                                      count      mean  sum\n",
       "category_total_2 category_children_2                      \n",
       "<=200000         1 ребенок             3632  0.097742  355\n",
       "                 многодетные           1827  0.097975  179\n",
       "                 нет детей            10833  0.077725  842\n",
       ">=200001         1 ребенок             1176  0.075680   89\n",
       "                 многодетные            605  0.076033   46\n",
       "                 нет детей             3258  0.067833  221"
      ]
     },
     "execution_count": 104,
     "metadata": {},
     "output_type": "execute_result"
    }
   ],
   "source": [
    "# Попробуем сгруппировать теперь людей по уровню дохода,  количеству детей\n",
    "\n",
    "data.groupby(['category_total_2', 'category_children_2'])['debt'].agg(['count', 'mean', 'sum'])"
   ]
  },
  {
   "cell_type": "markdown",
   "id": "8484208b",
   "metadata": {},
   "source": [
    "**В сводной таблице мы видим, что:**\n",
    "* Многодетные семьи с меньшим уровнем дохода с детьми имеют бОльший шанс на невозврат кредита\n",
    "* Категория людей без детей и с высоким уровнем дохода имеют наименьший шанс на невозврат кредита\n"
   ]
  },
  {
   "cell_type": "markdown",
   "id": "c21913f1",
   "metadata": {
    "deletable": false,
    "editable": false,
    "id": "09c3ac4c"
   },
   "source": [
    "#### 3.5 Приведите возможные причины появления пропусков в исходных данных."
   ]
  },
  {
   "cell_type": "markdown",
   "id": "b357321f",
   "metadata": {},
   "source": [
    "Пропуски у нас были только в двух переменных:\n",
    "*  трудовой стаж в днях (days_employed)\n",
    "*  данные о доходах (total_income)"
   ]
  },
  {
   "cell_type": "markdown",
   "id": "68eb5dc9",
   "metadata": {
    "deletable": false,
    "id": "9da2ceda"
   },
   "source": [
    "**Ответ:** \n",
    "\n",
    "**1) Возможные причины для переменной days_employed:**\n",
    "* Утеря трудовой книжки \n",
    "* Перенос трудовой книжки в электронной вид (откуда возможно и брались данные) и человек скрыл некоторые данные\n",
    "\n",
    "**2) Возможные причины для переменной total_income:**\n",
    "* Человек старался скрыть свои реальные доходы\n",
    "\n",
    "**Глобальные причины для обеих переменных:**\n",
    "* Ошибки при чтении из баз данных\n",
    "* Ошибка при загрузке данных из файла\n",
    "* Либо, если это заполнял человек, то возможно ошибься он\n",
    "* Человек сам не указал какие-то данные, а в электронной базе(электронной трудовой книги) их получить не удалось\n"
   ]
  },
  {
   "cell_type": "markdown",
   "id": "49c8219d",
   "metadata": {
    "deletable": false,
    "editable": false,
    "id": "7b0487d6"
   },
   "source": [
    "#### 3.6 Объясните, почему заполнить пропуски медианным значением — лучшее решение для количественных переменных."
   ]
  },
  {
   "cell_type": "markdown",
   "id": "2de40b8e",
   "metadata": {
    "deletable": false,
    "id": "7ecf2b8e"
   },
   "source": [
    "**Ответ: Для количественных переменных часто применяют среднее и медиану.  Но почему же лучше применять медиану? Дело в том, что выбросы в данных (аномально большие и аномально маленкие) могут сильно смещать среднее, что в конечном итоге может привести к искажению данных. А в случае с медианой мы берем такое число в выборке, что ровно половина элементов больше него, а другая половина — меньше, значит выбросы не повлияют на итоговое значение, и искажение данных будет меньшее.*** "
   ]
  },
  {
   "cell_type": "markdown",
   "id": "c2bdb604",
   "metadata": {
    "deletable": false,
    "editable": false,
    "id": "6db5255a"
   },
   "source": [
    "### Шаг 4: общий вывод."
   ]
  },
  {
   "cell_type": "markdown",
   "id": "ad669a76",
   "metadata": {},
   "source": [
    " <font color='blue'>**ДОПОЛНЕНИЕ**</font> "
   ]
  },
  {
   "cell_type": "markdown",
   "id": "91c043d5",
   "metadata": {
    "deletable": false,
    "id": "bad65432"
   },
   "source": [
    "Отвечая на вопрос исследования \" влияет ли семейное положение и количество детей клиента на факт погашения кредита в срок.\" - **да, влияет**. Если рассматривать влияние **семейного положения, уровня дохода, цели кредита, количества детей**  на факт погашения в срок, то отмечу следующее:\n",
    "\n",
    "**Если рассматривать зависимость количества детей, дохода на возврат, то отмечу:**\n",
    "* Категория людей без детей имеют бОльшие шансы на возврат кредита. С увеличением количества детей шансы на возврат кредита уменьшаются.\n",
    "* Люди с высоким уровнем дохода имеют большие шансы на возврат кредита. Люди с меньшим доходом имеют меньше шансов на возврат кредита.\n",
    "\n",
    "**Если рассматривать зависимость цели кредита на возврат, то отмечу**\n",
    "* Если цель кредита - недвижимость, то шанс невозврата самый маленький (7.25%) в сравнении категорий.\n",
    "* На втором месте по минимальной доле невозврата - цели на проведение свадьбы(7.9%). \n",
    "* Если цель кредита образование, то шанс невозврата выше, чем у прошлых категорий (9.25%)\n",
    "* Наибольший невозврат наблюдается у категории с операциями по покупке автомобиля, наблюдается 9.34% невозврата\n",
    "\n",
    "**Если рассматривать зависимость дохода, и цели кредита на возврат, то отмечу:**\n",
    "\n",
    "* Люди с высоким уровнем дохода имеют бОльший шанс на возврат кредита.\n",
    "* Люди с меньшим уровнем дохода чаще всего берут кредит на машину и недвижимость и имеют меньший шанс на возврат кредита.\n",
    "* Больший шанс невозврата у людей с меньшим уровнем дохода на категории (машина и образование)\n",
    "\n",
    "**Если рассматривать зависимость семейного положения, количества детей на возврат, то отмечу:**\n",
    "\n",
    "* Люди, которые были в браке и у них нет детей - имеют НАИБОЛЬШИЕ шансы на возврат кредита.\n",
    "* Люди в гражданском браке с ребенком имеют НАИМЕНЬШИЕ шансы на возврат\n"
   ]
  }
 ],
 "metadata": {
  "ExecuteTimeLog": [
   {
    "duration": 9,
    "start_time": "2022-10-08T02:27:22.964Z"
   },
   {
    "duration": 51,
    "start_time": "2022-10-08T02:27:24.519Z"
   },
   {
    "duration": 48,
    "start_time": "2022-10-08T02:27:30.338Z"
   },
   {
    "duration": 734,
    "start_time": "2022-10-08T02:27:40.722Z"
   },
   {
    "duration": 31,
    "start_time": "2022-10-08T02:27:42.786Z"
   },
   {
    "duration": 18,
    "start_time": "2022-10-08T02:27:43.201Z"
   },
   {
    "duration": 10,
    "start_time": "2022-10-08T02:27:43.893Z"
   },
   {
    "duration": 34,
    "start_time": "2022-10-08T02:27:44.516Z"
   },
   {
    "duration": 4,
    "start_time": "2022-10-08T02:27:44.599Z"
   },
   {
    "duration": 9,
    "start_time": "2022-10-08T02:27:44.660Z"
   },
   {
    "duration": 4,
    "start_time": "2022-10-08T02:27:45.077Z"
   },
   {
    "duration": 8,
    "start_time": "2022-10-08T02:27:45.644Z"
   },
   {
    "duration": 6,
    "start_time": "2022-10-08T02:27:45.824Z"
   },
   {
    "duration": 35,
    "start_time": "2022-10-08T02:27:47.632Z"
   },
   {
    "duration": 11,
    "start_time": "2022-10-08T02:27:48.020Z"
   },
   {
    "duration": 5,
    "start_time": "2022-10-08T02:27:48.535Z"
   },
   {
    "duration": 12,
    "start_time": "2022-10-08T02:27:49.428Z"
   },
   {
    "duration": 22,
    "start_time": "2022-10-08T02:27:49.501Z"
   },
   {
    "duration": 21,
    "start_time": "2022-10-08T02:27:49.525Z"
   },
   {
    "duration": 4,
    "start_time": "2022-10-08T02:27:49.606Z"
   },
   {
    "duration": 11,
    "start_time": "2022-10-08T02:27:49.632Z"
   },
   {
    "duration": 7,
    "start_time": "2022-10-08T02:27:49.740Z"
   },
   {
    "duration": 4,
    "start_time": "2022-10-08T02:27:50.008Z"
   },
   {
    "duration": 9,
    "start_time": "2022-10-08T02:27:50.255Z"
   },
   {
    "duration": 15,
    "start_time": "2022-10-08T02:27:50.781Z"
   },
   {
    "duration": 13,
    "start_time": "2022-10-08T02:27:51.720Z"
   },
   {
    "duration": 4,
    "start_time": "2022-10-08T02:27:54.505Z"
   },
   {
    "duration": 8,
    "start_time": "2022-10-08T02:27:54.902Z"
   },
   {
    "duration": 21,
    "start_time": "2022-10-08T02:27:55.573Z"
   },
   {
    "duration": 14,
    "start_time": "2022-10-08T02:27:56.849Z"
   },
   {
    "duration": 4,
    "start_time": "2022-10-08T02:27:59.580Z"
   },
   {
    "duration": 8,
    "start_time": "2022-10-08T02:28:00.287Z"
   },
   {
    "duration": 14,
    "start_time": "2022-10-08T02:28:49.237Z"
   },
   {
    "duration": 3,
    "start_time": "2022-10-08T02:40:13.362Z"
   },
   {
    "duration": 9,
    "start_time": "2022-10-08T02:41:20.877Z"
   },
   {
    "duration": 13,
    "start_time": "2022-10-08T02:41:53.077Z"
   },
   {
    "duration": 4,
    "start_time": "2022-10-08T02:42:25.920Z"
   },
   {
    "duration": 8,
    "start_time": "2022-10-08T02:42:26.361Z"
   },
   {
    "duration": 13,
    "start_time": "2022-10-08T02:42:26.973Z"
   },
   {
    "duration": 3,
    "start_time": "2022-10-08T02:44:34.337Z"
   },
   {
    "duration": 7,
    "start_time": "2022-10-08T02:44:35.154Z"
   },
   {
    "duration": 13,
    "start_time": "2022-10-08T02:44:35.623Z"
   },
   {
    "duration": 41,
    "start_time": "2022-10-08T02:49:12.146Z"
   },
   {
    "duration": 26,
    "start_time": "2022-10-08T02:49:20.985Z"
   },
   {
    "duration": 6,
    "start_time": "2022-10-08T02:52:27.131Z"
   },
   {
    "duration": 3,
    "start_time": "2022-10-08T03:01:37.051Z"
   },
   {
    "duration": 7,
    "start_time": "2022-10-08T03:02:15.796Z"
   },
   {
    "duration": 19,
    "start_time": "2022-10-08T03:02:22.127Z"
   },
   {
    "duration": 17,
    "start_time": "2022-10-08T03:02:31.197Z"
   },
   {
    "duration": 10,
    "start_time": "2022-10-08T03:03:22.124Z"
   },
   {
    "duration": 85,
    "start_time": "2022-10-08T03:06:55.405Z"
   },
   {
    "duration": 5,
    "start_time": "2022-10-08T03:08:26.389Z"
   },
   {
    "duration": 4,
    "start_time": "2022-10-08T03:08:26.860Z"
   },
   {
    "duration": 7,
    "start_time": "2022-10-08T03:08:29.460Z"
   },
   {
    "duration": 17,
    "start_time": "2022-10-08T03:08:30.210Z"
   },
   {
    "duration": 10,
    "start_time": "2022-10-08T03:08:33.471Z"
   },
   {
    "duration": 17,
    "start_time": "2022-10-08T03:11:42.862Z"
   },
   {
    "duration": 11,
    "start_time": "2022-10-08T03:12:08.058Z"
   },
   {
    "duration": 18,
    "start_time": "2022-10-08T03:12:28.994Z"
   },
   {
    "duration": 11,
    "start_time": "2022-10-08T03:12:40.323Z"
   },
   {
    "duration": 16,
    "start_time": "2022-10-08T03:12:45.905Z"
   },
   {
    "duration": 45,
    "start_time": "2022-10-08T03:19:54.420Z"
   },
   {
    "duration": 5,
    "start_time": "2022-10-08T03:20:10.591Z"
   },
   {
    "duration": 27,
    "start_time": "2022-10-08T03:20:20.883Z"
   },
   {
    "duration": 10,
    "start_time": "2022-10-08T03:20:57.478Z"
   },
   {
    "duration": 17,
    "start_time": "2022-10-08T03:21:01.097Z"
   },
   {
    "duration": 71,
    "start_time": "2022-10-08T03:29:13.135Z"
   },
   {
    "duration": 61,
    "start_time": "2022-10-08T03:31:24.873Z"
   },
   {
    "duration": 50,
    "start_time": "2022-10-08T03:49:06.186Z"
   },
   {
    "duration": 22,
    "start_time": "2022-10-08T03:49:06.238Z"
   },
   {
    "duration": 18,
    "start_time": "2022-10-08T03:49:06.262Z"
   },
   {
    "duration": 9,
    "start_time": "2022-10-08T03:49:06.283Z"
   },
   {
    "duration": 35,
    "start_time": "2022-10-08T03:49:06.294Z"
   },
   {
    "duration": 4,
    "start_time": "2022-10-08T03:49:06.355Z"
   },
   {
    "duration": 10,
    "start_time": "2022-10-08T03:49:06.361Z"
   },
   {
    "duration": 5,
    "start_time": "2022-10-08T03:49:06.372Z"
   },
   {
    "duration": 9,
    "start_time": "2022-10-08T03:49:06.379Z"
   },
   {
    "duration": 4,
    "start_time": "2022-10-08T03:49:06.392Z"
   },
   {
    "duration": 65,
    "start_time": "2022-10-08T03:49:06.397Z"
   },
   {
    "duration": 10,
    "start_time": "2022-10-08T03:49:06.464Z"
   },
   {
    "duration": 4,
    "start_time": "2022-10-08T03:49:06.476Z"
   },
   {
    "duration": 12,
    "start_time": "2022-10-08T03:49:06.482Z"
   },
   {
    "duration": 20,
    "start_time": "2022-10-08T03:49:06.495Z"
   },
   {
    "duration": 54,
    "start_time": "2022-10-08T03:49:06.517Z"
   },
   {
    "duration": 6,
    "start_time": "2022-10-08T03:49:06.573Z"
   },
   {
    "duration": 20,
    "start_time": "2022-10-08T03:49:06.580Z"
   },
   {
    "duration": 19,
    "start_time": "2022-10-08T03:49:06.601Z"
   },
   {
    "duration": 5,
    "start_time": "2022-10-08T03:49:06.622Z"
   },
   {
    "duration": 18,
    "start_time": "2022-10-08T03:49:06.628Z"
   },
   {
    "duration": 21,
    "start_time": "2022-10-08T03:49:06.648Z"
   },
   {
    "duration": 17,
    "start_time": "2022-10-08T03:49:06.671Z"
   },
   {
    "duration": 3,
    "start_time": "2022-10-08T03:49:06.689Z"
   },
   {
    "duration": 12,
    "start_time": "2022-10-08T03:49:06.694Z"
   },
   {
    "duration": 19,
    "start_time": "2022-10-08T03:49:06.707Z"
   },
   {
    "duration": 27,
    "start_time": "2022-10-08T03:49:06.728Z"
   },
   {
    "duration": 6,
    "start_time": "2022-10-08T03:49:06.758Z"
   },
   {
    "duration": 19,
    "start_time": "2022-10-08T03:49:06.765Z"
   },
   {
    "duration": 15,
    "start_time": "2022-10-08T03:49:06.786Z"
   },
   {
    "duration": 2,
    "start_time": "2022-10-08T03:49:06.802Z"
   },
   {
    "duration": 78,
    "start_time": "2022-10-08T03:49:06.806Z"
   },
   {
    "duration": 0,
    "start_time": "2022-10-08T03:49:06.886Z"
   },
   {
    "duration": 0,
    "start_time": "2022-10-08T03:49:06.887Z"
   },
   {
    "duration": 0,
    "start_time": "2022-10-08T03:49:06.888Z"
   },
   {
    "duration": 0,
    "start_time": "2022-10-08T03:49:06.890Z"
   },
   {
    "duration": 0,
    "start_time": "2022-10-08T03:49:06.891Z"
   },
   {
    "duration": 0,
    "start_time": "2022-10-08T03:49:06.892Z"
   },
   {
    "duration": 0,
    "start_time": "2022-10-08T03:49:06.893Z"
   },
   {
    "duration": 0,
    "start_time": "2022-10-08T03:49:06.894Z"
   },
   {
    "duration": 0,
    "start_time": "2022-10-08T03:49:06.895Z"
   },
   {
    "duration": 0,
    "start_time": "2022-10-08T03:49:06.896Z"
   },
   {
    "duration": 0,
    "start_time": "2022-10-08T03:49:06.898Z"
   },
   {
    "duration": 0,
    "start_time": "2022-10-08T03:49:06.898Z"
   },
   {
    "duration": 0,
    "start_time": "2022-10-08T03:49:06.899Z"
   },
   {
    "duration": 0,
    "start_time": "2022-10-08T03:49:06.901Z"
   },
   {
    "duration": 0,
    "start_time": "2022-10-08T03:49:06.902Z"
   },
   {
    "duration": 0,
    "start_time": "2022-10-08T03:49:06.903Z"
   },
   {
    "duration": 0,
    "start_time": "2022-10-08T03:49:06.904Z"
   },
   {
    "duration": 0,
    "start_time": "2022-10-08T03:49:06.905Z"
   },
   {
    "duration": 0,
    "start_time": "2022-10-08T03:49:06.906Z"
   },
   {
    "duration": 0,
    "start_time": "2022-10-08T03:49:06.907Z"
   },
   {
    "duration": 0,
    "start_time": "2022-10-08T03:49:06.908Z"
   },
   {
    "duration": 0,
    "start_time": "2022-10-08T03:49:06.909Z"
   },
   {
    "duration": 0,
    "start_time": "2022-10-08T03:49:06.910Z"
   },
   {
    "duration": 74,
    "start_time": "2022-10-08T03:49:15.014Z"
   },
   {
    "duration": 4173,
    "start_time": "2022-10-08T03:49:58.753Z"
   },
   {
    "duration": 2458,
    "start_time": "2022-10-08T03:50:05.336Z"
   },
   {
    "duration": 725,
    "start_time": "2022-10-08T03:50:07.797Z"
   },
   {
    "duration": 7,
    "start_time": "2022-10-08T03:50:10.064Z"
   },
   {
    "duration": 499,
    "start_time": "2022-10-08T03:50:12.005Z"
   },
   {
    "duration": 3,
    "start_time": "2022-10-08T03:50:15.882Z"
   },
   {
    "duration": 3,
    "start_time": "2022-10-08T03:50:17.700Z"
   },
   {
    "duration": 14,
    "start_time": "2022-10-08T03:50:18.048Z"
   },
   {
    "duration": 60,
    "start_time": "2022-10-08T03:50:18.920Z"
   },
   {
    "duration": 12,
    "start_time": "2022-10-08T03:50:19.052Z"
   },
   {
    "duration": 5,
    "start_time": "2022-10-08T03:50:19.564Z"
   },
   {
    "duration": 4,
    "start_time": "2022-10-08T03:50:19.733Z"
   },
   {
    "duration": 15,
    "start_time": "2022-10-08T03:51:05.748Z"
   },
   {
    "duration": 15,
    "start_time": "2022-10-08T03:51:14.242Z"
   },
   {
    "duration": 14,
    "start_time": "2022-10-08T03:51:29.686Z"
   },
   {
    "duration": 70,
    "start_time": "2022-10-08T03:58:34.825Z"
   },
   {
    "duration": 17,
    "start_time": "2022-10-08T03:58:35.956Z"
   },
   {
    "duration": 16,
    "start_time": "2022-10-08T03:58:36.885Z"
   },
   {
    "duration": 13,
    "start_time": "2022-10-08T03:58:38.180Z"
   },
   {
    "duration": 33,
    "start_time": "2022-10-08T03:58:38.752Z"
   },
   {
    "duration": 5,
    "start_time": "2022-10-08T03:58:39.210Z"
   },
   {
    "duration": 8,
    "start_time": "2022-10-08T03:58:39.642Z"
   },
   {
    "duration": 5,
    "start_time": "2022-10-08T03:58:40.034Z"
   },
   {
    "duration": 7,
    "start_time": "2022-10-08T03:58:40.290Z"
   },
   {
    "duration": 5,
    "start_time": "2022-10-08T03:58:40.656Z"
   },
   {
    "duration": 34,
    "start_time": "2022-10-08T03:58:41.060Z"
   },
   {
    "duration": 11,
    "start_time": "2022-10-08T03:58:41.325Z"
   },
   {
    "duration": 5,
    "start_time": "2022-10-08T03:58:41.745Z"
   },
   {
    "duration": 12,
    "start_time": "2022-10-08T03:58:42.144Z"
   },
   {
    "duration": 22,
    "start_time": "2022-10-08T03:58:42.405Z"
   },
   {
    "duration": 19,
    "start_time": "2022-10-08T03:58:42.575Z"
   },
   {
    "duration": 5,
    "start_time": "2022-10-08T03:58:42.967Z"
   },
   {
    "duration": 11,
    "start_time": "2022-10-08T03:58:43.102Z"
   },
   {
    "duration": 6,
    "start_time": "2022-10-08T03:58:43.377Z"
   },
   {
    "duration": 3,
    "start_time": "2022-10-08T03:58:43.665Z"
   },
   {
    "duration": 10,
    "start_time": "2022-10-08T03:58:43.800Z"
   },
   {
    "duration": 13,
    "start_time": "2022-10-08T03:58:44.359Z"
   },
   {
    "duration": 12,
    "start_time": "2022-10-08T03:58:44.811Z"
   },
   {
    "duration": 3,
    "start_time": "2022-10-08T03:58:45.237Z"
   },
   {
    "duration": 8,
    "start_time": "2022-10-08T03:58:45.312Z"
   },
   {
    "duration": 14,
    "start_time": "2022-10-08T03:58:45.461Z"
   },
   {
    "duration": 14,
    "start_time": "2022-10-08T03:58:45.778Z"
   },
   {
    "duration": 5,
    "start_time": "2022-10-08T03:58:46.479Z"
   },
   {
    "duration": 8,
    "start_time": "2022-10-08T03:58:46.621Z"
   },
   {
    "duration": 13,
    "start_time": "2022-10-08T03:58:46.751Z"
   },
   {
    "duration": 3,
    "start_time": "2022-10-08T03:58:46.888Z"
   },
   {
    "duration": 3,
    "start_time": "2022-10-08T03:58:47.193Z"
   },
   {
    "duration": 1195,
    "start_time": "2022-10-08T03:58:47.305Z"
   },
   {
    "duration": 7,
    "start_time": "2022-10-08T03:58:48.502Z"
   },
   {
    "duration": 508,
    "start_time": "2022-10-08T03:58:48.511Z"
   },
   {
    "duration": 3,
    "start_time": "2022-10-08T03:58:49.022Z"
   },
   {
    "duration": 7,
    "start_time": "2022-10-08T03:58:49.026Z"
   },
   {
    "duration": 15,
    "start_time": "2022-10-08T03:58:49.166Z"
   },
   {
    "duration": 21,
    "start_time": "2022-10-08T03:58:50.072Z"
   },
   {
    "duration": 11,
    "start_time": "2022-10-08T03:58:50.210Z"
   },
   {
    "duration": 6,
    "start_time": "2022-10-08T03:58:50.830Z"
   },
   {
    "duration": 4,
    "start_time": "2022-10-08T03:58:50.971Z"
   },
   {
    "duration": 7,
    "start_time": "2022-10-08T03:58:51.117Z"
   },
   {
    "duration": 17,
    "start_time": "2022-10-08T03:58:51.268Z"
   },
   {
    "duration": 12,
    "start_time": "2022-10-08T03:58:51.412Z"
   },
   {
    "duration": 3,
    "start_time": "2022-10-08T03:58:52.001Z"
   },
   {
    "duration": 13,
    "start_time": "2022-10-08T03:58:52.309Z"
   },
   {
    "duration": 3,
    "start_time": "2022-10-08T03:58:53.203Z"
   },
   {
    "duration": 8,
    "start_time": "2022-10-08T03:58:53.371Z"
   },
   {
    "duration": 13,
    "start_time": "2022-10-08T03:58:53.537Z"
   },
   {
    "duration": 3,
    "start_time": "2022-10-08T03:58:53.977Z"
   },
   {
    "duration": 17,
    "start_time": "2022-10-08T03:58:54.126Z"
   },
   {
    "duration": 16,
    "start_time": "2022-10-08T03:58:54.585Z"
   },
   {
    "duration": 19,
    "start_time": "2022-10-08T03:58:55.653Z"
   },
   {
    "duration": 24,
    "start_time": "2022-10-08T03:58:56.055Z"
   },
   {
    "duration": 57,
    "start_time": "2022-10-08T06:07:11.698Z"
   }
  ],
  "colab": {
   "name": "dpp_template_part2.ipynb",
   "provenance": []
  },
  "kernelspec": {
   "display_name": "Python 3 (ipykernel)",
   "language": "python",
   "name": "python3"
  },
  "language_info": {
   "codemirror_mode": {
    "name": "ipython",
    "version": 3
   },
   "file_extension": ".py",
   "mimetype": "text/x-python",
   "name": "python",
   "nbconvert_exporter": "python",
   "pygments_lexer": "ipython3",
   "version": "3.9.13"
  },
  "toc": {
   "base_numbering": 1,
   "nav_menu": {},
   "number_sections": true,
   "sideBar": true,
   "skip_h1_title": true,
   "title_cell": "Table of Contents",
   "title_sidebar": "Contents",
   "toc_cell": false,
   "toc_position": {},
   "toc_section_display": true,
   "toc_window_display": false
  }
 },
 "nbformat": 4,
 "nbformat_minor": 5
}
